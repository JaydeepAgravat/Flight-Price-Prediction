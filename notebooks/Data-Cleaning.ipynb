{
 "cells": [
  {
   "cell_type": "markdown",
   "id": "dfc1095d-7595-4d3a-8e7f-e6e7a7ddcd2d",
   "metadata": {},
   "source": [
    "[Data Cleaning](#Data-Cleaning)<br>\n",
    "&emsp;[1. Import Libraries](#1.-Import-Libraries)<br>\n",
    "&emsp;[2. Reading Dataset](#2.-Reading-Dataset)<br>\n",
    "&emsp;[3. Preliminary Analysis](#3.-Preliminary-Analysis)<br>\n",
    "&emsp;&emsp;[3.1 Check Data Types](#3.1-Check-Data-Types)<br>\n",
    "&emsp;&emsp;[3.2 Check for Duplicates](#3.2-Check-for-Duplicates)<br>\n",
    "&emsp;&emsp;[3.3 Check for Missing Values](#3.3-Check-for-Missing-Values)<br>\n",
    "&emsp;[4. Detailed Analysis](#4.-Detailed-Analysis)<br>\n",
    "&emsp;&emsp;[4.1 Airline](#4.1-Airline)<br>\n",
    "&emsp;&emsp;[4.2 Date of Journey](#4.2-Date-of-Journey)<br>\n",
    "&emsp;&emsp;[4.3 Source](#4.3-Source)<br>\n",
    "&emsp;&emsp;[4.4 Destination](#4.4-Destination)<br>\n",
    "&emsp;&emsp;[4.5 Route](#4.5-Route)<br>\n",
    "&emsp;&emsp;[4.6 Departure Time](#4.6-Departure-Time)<br>\n",
    "&emsp;&emsp;[4.7 Arrival Time](#4.7-Arrival-Time)<br>\n",
    "&emsp;&emsp;[4.8 Duration](#4.8-Duration)<br>\n",
    "&emsp;&emsp;[4.9 Total Stops](#4.9-Total-Stops)<br>\n",
    "&emsp;&emsp;[4.10 Additional Info](#4.10-Additional-Info)<br>\n",
    "&emsp;&emsp;[4.11 Price](#4.11-Price)<br>\n",
    "&emsp;[5. Cleaning Operation](#5.-Cleaning-Operation)<br>\n",
    "&emsp;[6. Split The Datset](#6.-Split-The-Datset)<br>\n",
    "&emsp;[7. Export The Datset Subset](#7.-Export-The-Datset-Subset)<br>"
   ]
  },
  {
   "cell_type": "markdown",
   "id": "984bbc5c-b32c-4e05-8e1b-4cdb0f986130",
   "metadata": {},
   "source": [
    "## 1. Import Libraries"
   ]
  },
  {
   "cell_type": "code",
   "execution_count": 1,
   "id": "249b0c21-4876-448f-b54c-cde94b66c9f5",
   "metadata": {},
   "outputs": [],
   "source": [
    "import os\n",
    "import numpy as np\n",
    "import pandas as pd\n",
    "from sklearn.model_selection import train_test_split"
   ]
  },
  {
   "cell_type": "markdown",
   "id": "e268fb2d-d467-4577-a635-2d60b9781cb3",
   "metadata": {},
   "source": [
    "## 2. Reading Dataset"
   ]
  },
  {
   "cell_type": "code",
   "execution_count": 2,
   "id": "26a9cad1-3391-4b90-bf82-c0d6d9d04aa8",
   "metadata": {},
   "outputs": [],
   "source": [
    "PROJECT_DIR = 'R:\\Jaydeep\\Flight-Price-Prediction'\n",
    "DATA_DIR = 'data'\n",
    "MAIN_DATASET_NAME = 'flight_price'"
   ]
  },
  {
   "cell_type": "code",
   "execution_count": 3,
   "id": "1014fd76-bf29-4408-97e6-a9da4b9a8d54",
   "metadata": {},
   "outputs": [],
   "source": [
    "def get_dataset(dataset_name):\n",
    "    file_name = f'{dataset_name}.csv'\n",
    "    file_path = os.path.join(PROJECT_DIR, DATA_DIR, file_name)\n",
    "    return pd.read_csv(file_path)"
   ]
  },
  {
   "cell_type": "code",
   "execution_count": 4,
   "id": "33609714-17ec-49b4-9a17-4e0c8a2f28a1",
   "metadata": {},
   "outputs": [],
   "source": [
    "df = get_dataset(MAIN_DATASET_NAME)"
   ]
  },
  {
   "cell_type": "code",
   "execution_count": 5,
   "id": "65f13d37-b570-4da8-86da-cba8c805b4a1",
   "metadata": {},
   "outputs": [
    {
     "data": {
      "text/html": [
       "<div>\n",
       "<style scoped>\n",
       "    .dataframe tbody tr th:only-of-type {\n",
       "        vertical-align: middle;\n",
       "    }\n",
       "\n",
       "    .dataframe tbody tr th {\n",
       "        vertical-align: top;\n",
       "    }\n",
       "\n",
       "    .dataframe thead th {\n",
       "        text-align: right;\n",
       "    }\n",
       "</style>\n",
       "<table border=\"1\" class=\"dataframe\">\n",
       "  <thead>\n",
       "    <tr style=\"text-align: right;\">\n",
       "      <th></th>\n",
       "      <th>Airline</th>\n",
       "      <th>Date_of_Journey</th>\n",
       "      <th>Source</th>\n",
       "      <th>Destination</th>\n",
       "      <th>Route</th>\n",
       "      <th>Dep_Time</th>\n",
       "      <th>Arrival_Time</th>\n",
       "      <th>Duration</th>\n",
       "      <th>Total_Stops</th>\n",
       "      <th>Additional_Info</th>\n",
       "      <th>Price</th>\n",
       "    </tr>\n",
       "  </thead>\n",
       "  <tbody>\n",
       "    <tr>\n",
       "      <th>9521</th>\n",
       "      <td>Multiple carriers</td>\n",
       "      <td>12/06/2019</td>\n",
       "      <td>Delhi</td>\n",
       "      <td>Cochin</td>\n",
       "      <td>DEL → BOM → COK</td>\n",
       "      <td>12:50</td>\n",
       "      <td>21:00</td>\n",
       "      <td>8h 10m</td>\n",
       "      <td>1 stop</td>\n",
       "      <td>No info</td>\n",
       "      <td>7005</td>\n",
       "    </tr>\n",
       "    <tr>\n",
       "      <th>7998</th>\n",
       "      <td>Air Asia</td>\n",
       "      <td>18/05/2019</td>\n",
       "      <td>Delhi</td>\n",
       "      <td>Cochin</td>\n",
       "      <td>DEL → BLR → COK</td>\n",
       "      <td>07:55</td>\n",
       "      <td>13:25</td>\n",
       "      <td>5h 30m</td>\n",
       "      <td>1 stop</td>\n",
       "      <td>No info</td>\n",
       "      <td>8759</td>\n",
       "    </tr>\n",
       "    <tr>\n",
       "      <th>4632</th>\n",
       "      <td>Air India</td>\n",
       "      <td>6/03/2019</td>\n",
       "      <td>Delhi</td>\n",
       "      <td>Cochin</td>\n",
       "      <td>DEL → JAI → BOM → COK</td>\n",
       "      <td>12:00</td>\n",
       "      <td>19:15</td>\n",
       "      <td>7h 15m</td>\n",
       "      <td>2 stops</td>\n",
       "      <td>No info</td>\n",
       "      <td>11858</td>\n",
       "    </tr>\n",
       "    <tr>\n",
       "      <th>2808</th>\n",
       "      <td>IndiGo</td>\n",
       "      <td>15/03/2019</td>\n",
       "      <td>Mumbai</td>\n",
       "      <td>Hyderabad</td>\n",
       "      <td>BOM → HYD</td>\n",
       "      <td>06:20</td>\n",
       "      <td>07:45</td>\n",
       "      <td>1h 25m</td>\n",
       "      <td>non-stop</td>\n",
       "      <td>No info</td>\n",
       "      <td>3342</td>\n",
       "    </tr>\n",
       "    <tr>\n",
       "      <th>8226</th>\n",
       "      <td>Multiple carriers</td>\n",
       "      <td>21/03/2019</td>\n",
       "      <td>Delhi</td>\n",
       "      <td>Cochin</td>\n",
       "      <td>DEL → BOM → COK</td>\n",
       "      <td>04:45</td>\n",
       "      <td>18:50</td>\n",
       "      <td>14h 5m</td>\n",
       "      <td>1 stop</td>\n",
       "      <td>No info</td>\n",
       "      <td>11098</td>\n",
       "    </tr>\n",
       "  </tbody>\n",
       "</table>\n",
       "</div>"
      ],
      "text/plain": [
       "                Airline Date_of_Journey  Source Destination  \\\n",
       "9521  Multiple carriers      12/06/2019   Delhi      Cochin   \n",
       "7998           Air Asia      18/05/2019   Delhi      Cochin   \n",
       "4632          Air India       6/03/2019   Delhi      Cochin   \n",
       "2808             IndiGo      15/03/2019  Mumbai   Hyderabad   \n",
       "8226  Multiple carriers      21/03/2019   Delhi      Cochin   \n",
       "\n",
       "                      Route Dep_Time Arrival_Time Duration Total_Stops  \\\n",
       "9521        DEL → BOM → COK    12:50        21:00   8h 10m      1 stop   \n",
       "7998        DEL → BLR → COK    07:55        13:25   5h 30m      1 stop   \n",
       "4632  DEL → JAI → BOM → COK    12:00        19:15   7h 15m     2 stops   \n",
       "2808              BOM → HYD    06:20        07:45   1h 25m    non-stop   \n",
       "8226        DEL → BOM → COK    04:45        18:50   14h 5m      1 stop   \n",
       "\n",
       "     Additional_Info  Price  \n",
       "9521         No info   7005  \n",
       "7998         No info   8759  \n",
       "4632         No info  11858  \n",
       "2808         No info   3342  \n",
       "8226         No info  11098  "
      ]
     },
     "execution_count": 5,
     "metadata": {},
     "output_type": "execute_result"
    }
   ],
   "source": [
    "df.sample(5)"
   ]
  },
  {
   "cell_type": "markdown",
   "id": "0baeefa4-f3dd-47e7-86df-68615cef647e",
   "metadata": {},
   "source": [
    "## 3. Preliminary Analysis"
   ]
  },
  {
   "cell_type": "markdown",
   "id": "0770e86e-eca9-44fb-9d1c-bb606bbe1c5e",
   "metadata": {},
   "source": [
    "### 3.1 Check Data Types"
   ]
  },
  {
   "cell_type": "code",
   "execution_count": 6,
   "id": "8250afb5-a1e0-421d-b0d3-13b581d5e0f3",
   "metadata": {},
   "outputs": [
    {
     "name": "stdout",
     "output_type": "stream",
     "text": [
      "<class 'pandas.core.frame.DataFrame'>\n",
      "RangeIndex: 10683 entries, 0 to 10682\n",
      "Data columns (total 11 columns):\n",
      " #   Column           Non-Null Count  Dtype \n",
      "---  ------           --------------  ----- \n",
      " 0   Airline          10683 non-null  object\n",
      " 1   Date_of_Journey  10683 non-null  object\n",
      " 2   Source           10683 non-null  object\n",
      " 3   Destination      10683 non-null  object\n",
      " 4   Route            10682 non-null  object\n",
      " 5   Dep_Time         10683 non-null  object\n",
      " 6   Arrival_Time     10683 non-null  object\n",
      " 7   Duration         10683 non-null  object\n",
      " 8   Total_Stops      10682 non-null  object\n",
      " 9   Additional_Info  10683 non-null  object\n",
      " 10  Price            10683 non-null  int64 \n",
      "dtypes: int64(1), object(10)\n",
      "memory usage: 918.2+ KB\n"
     ]
    }
   ],
   "source": [
    "df.info()"
   ]
  },
  {
   "cell_type": "markdown",
   "id": "ded4f87c-f025-4b6d-93c8-e80043c1245c",
   "metadata": {},
   "source": [
    "### 3.2 Check for Duplicates"
   ]
  },
  {
   "cell_type": "code",
   "execution_count": 7,
   "id": "a25b7d2a-5771-4f45-bea5-bd714a5d82a3",
   "metadata": {},
   "outputs": [
    {
     "data": {
      "text/plain": [
       "220"
      ]
     },
     "execution_count": 7,
     "metadata": {},
     "output_type": "execute_result"
    }
   ],
   "source": [
    "df.duplicated().sum()"
   ]
  },
  {
   "cell_type": "markdown",
   "id": "9d7daf68-3da0-44de-967e-839d8e1cbe6d",
   "metadata": {},
   "source": [
    "### 3.3 Check for Missing Values"
   ]
  },
  {
   "cell_type": "code",
   "execution_count": 8,
   "id": "98eec765-bebf-42d6-8e37-dea038ddd86c",
   "metadata": {},
   "outputs": [
    {
     "data": {
      "text/plain": [
       "2"
      ]
     },
     "execution_count": 8,
     "metadata": {},
     "output_type": "execute_result"
    }
   ],
   "source": [
    "df.isnull().sum().sum()"
   ]
  },
  {
   "cell_type": "code",
   "execution_count": 9,
   "id": "b9ba36ab-a2db-417d-a021-c365d47ba8bc",
   "metadata": {},
   "outputs": [
    {
     "data": {
      "text/plain": [
       "Route          1\n",
       "Total_Stops    1\n",
       "dtype: int64"
      ]
     },
     "execution_count": 9,
     "metadata": {},
     "output_type": "execute_result"
    }
   ],
   "source": [
    "df.isnull().sum()[lambda x: x>0]"
   ]
  },
  {
   "cell_type": "code",
   "execution_count": 10,
   "id": "e94b15ad-22df-4bda-a142-ebb1d4e06ba7",
   "metadata": {},
   "outputs": [
    {
     "data": {
      "text/html": [
       "<div>\n",
       "<style scoped>\n",
       "    .dataframe tbody tr th:only-of-type {\n",
       "        vertical-align: middle;\n",
       "    }\n",
       "\n",
       "    .dataframe tbody tr th {\n",
       "        vertical-align: top;\n",
       "    }\n",
       "\n",
       "    .dataframe thead th {\n",
       "        text-align: right;\n",
       "    }\n",
       "</style>\n",
       "<table border=\"1\" class=\"dataframe\">\n",
       "  <thead>\n",
       "    <tr style=\"text-align: right;\">\n",
       "      <th></th>\n",
       "      <th>Airline</th>\n",
       "      <th>Date_of_Journey</th>\n",
       "      <th>Source</th>\n",
       "      <th>Destination</th>\n",
       "      <th>Route</th>\n",
       "      <th>Dep_Time</th>\n",
       "      <th>Arrival_Time</th>\n",
       "      <th>Duration</th>\n",
       "      <th>Total_Stops</th>\n",
       "      <th>Additional_Info</th>\n",
       "      <th>Price</th>\n",
       "    </tr>\n",
       "  </thead>\n",
       "  <tbody>\n",
       "    <tr>\n",
       "      <th>9039</th>\n",
       "      <td>Air India</td>\n",
       "      <td>6/05/2019</td>\n",
       "      <td>Delhi</td>\n",
       "      <td>Cochin</td>\n",
       "      <td>NaN</td>\n",
       "      <td>09:45</td>\n",
       "      <td>09:25 07 May</td>\n",
       "      <td>23h 40m</td>\n",
       "      <td>NaN</td>\n",
       "      <td>No info</td>\n",
       "      <td>7480</td>\n",
       "    </tr>\n",
       "  </tbody>\n",
       "</table>\n",
       "</div>"
      ],
      "text/plain": [
       "        Airline Date_of_Journey Source Destination Route Dep_Time  \\\n",
       "9039  Air India       6/05/2019  Delhi      Cochin   NaN    09:45   \n",
       "\n",
       "      Arrival_Time Duration Total_Stops Additional_Info  Price  \n",
       "9039  09:25 07 May  23h 40m         NaN         No info   7480  "
      ]
     },
     "execution_count": 10,
     "metadata": {},
     "output_type": "execute_result"
    }
   ],
   "source": [
    "df.loc[df['Route'].isnull()]"
   ]
  },
  {
   "cell_type": "code",
   "execution_count": 11,
   "id": "1574e94f-3122-4100-bcf4-a047c7e448ee",
   "metadata": {},
   "outputs": [
    {
     "data": {
      "text/html": [
       "<div>\n",
       "<style scoped>\n",
       "    .dataframe tbody tr th:only-of-type {\n",
       "        vertical-align: middle;\n",
       "    }\n",
       "\n",
       "    .dataframe tbody tr th {\n",
       "        vertical-align: top;\n",
       "    }\n",
       "\n",
       "    .dataframe thead th {\n",
       "        text-align: right;\n",
       "    }\n",
       "</style>\n",
       "<table border=\"1\" class=\"dataframe\">\n",
       "  <thead>\n",
       "    <tr style=\"text-align: right;\">\n",
       "      <th></th>\n",
       "      <th>Airline</th>\n",
       "      <th>Date_of_Journey</th>\n",
       "      <th>Source</th>\n",
       "      <th>Destination</th>\n",
       "      <th>Route</th>\n",
       "      <th>Dep_Time</th>\n",
       "      <th>Arrival_Time</th>\n",
       "      <th>Duration</th>\n",
       "      <th>Total_Stops</th>\n",
       "      <th>Additional_Info</th>\n",
       "      <th>Price</th>\n",
       "    </tr>\n",
       "  </thead>\n",
       "  <tbody>\n",
       "    <tr>\n",
       "      <th>9039</th>\n",
       "      <td>Air India</td>\n",
       "      <td>6/05/2019</td>\n",
       "      <td>Delhi</td>\n",
       "      <td>Cochin</td>\n",
       "      <td>NaN</td>\n",
       "      <td>09:45</td>\n",
       "      <td>09:25 07 May</td>\n",
       "      <td>23h 40m</td>\n",
       "      <td>NaN</td>\n",
       "      <td>No info</td>\n",
       "      <td>7480</td>\n",
       "    </tr>\n",
       "  </tbody>\n",
       "</table>\n",
       "</div>"
      ],
      "text/plain": [
       "        Airline Date_of_Journey Source Destination Route Dep_Time  \\\n",
       "9039  Air India       6/05/2019  Delhi      Cochin   NaN    09:45   \n",
       "\n",
       "      Arrival_Time Duration Total_Stops Additional_Info  Price  \n",
       "9039  09:25 07 May  23h 40m         NaN         No info   7480  "
      ]
     },
     "execution_count": 11,
     "metadata": {},
     "output_type": "execute_result"
    }
   ],
   "source": [
    "df.loc[df['Total_Stops'].isnull()]"
   ]
  },
  {
   "cell_type": "markdown",
   "id": "1a5d00e1-9220-43ec-bf78-950feafc91de",
   "metadata": {},
   "source": [
    "- There are 10683 rows & 11 columns.\n",
    "- Need to convert `Date_of_Journey` `Dep_Time` & `Arrival_Time` to datetime.\n",
    "- Need to convert `Duration` & `Total_Stops` to numeric.\n",
    "- There are 220 duplicates, it should be removed.\n",
    "- There are 2 null values.\n",
    "    - `Route`:1\n",
    "    - `Total_Stops`:1"
   ]
  },
  {
   "cell_type": "markdown",
   "id": "f23c62f8-8aa3-41a4-b432-ac0f009be018",
   "metadata": {},
   "source": [
    "## 4. Detailed Analysis"
   ]
  },
  {
   "cell_type": "code",
   "execution_count": 12,
   "id": "009305c8-7394-40b9-95ed-50cd9c85dfd0",
   "metadata": {},
   "outputs": [
    {
     "data": {
      "text/plain": [
       "Index(['Airline', 'Date_of_Journey', 'Source', 'Destination', 'Route',\n",
       "       'Dep_Time', 'Arrival_Time', 'Duration', 'Total_Stops',\n",
       "       'Additional_Info', 'Price'],\n",
       "      dtype='object')"
      ]
     },
     "execution_count": 12,
     "metadata": {},
     "output_type": "execute_result"
    }
   ],
   "source": [
    "df.columns"
   ]
  },
  {
   "cell_type": "markdown",
   "id": "7206c44b-9844-4b1e-8034-d558c8dac799",
   "metadata": {},
   "source": [
    "### 4.1 Airline"
   ]
  },
  {
   "cell_type": "code",
   "execution_count": 13,
   "id": "b5c9636e-3d08-464a-82ef-0de3551de315",
   "metadata": {},
   "outputs": [
    {
     "data": {
      "text/plain": [
       "12"
      ]
     },
     "execution_count": 13,
     "metadata": {},
     "output_type": "execute_result"
    }
   ],
   "source": [
    "df.Airline.nunique()"
   ]
  },
  {
   "cell_type": "code",
   "execution_count": 14,
   "id": "93d611a5-3a91-4fc6-85fd-31fc6afe37f6",
   "metadata": {},
   "outputs": [
    {
     "data": {
      "text/plain": [
       "array(['IndiGo', 'Air India', 'Jet Airways', 'SpiceJet',\n",
       "       'Multiple carriers', 'GoAir', 'Vistara', 'Air Asia',\n",
       "       'Vistara Premium economy', 'Jet Airways Business',\n",
       "       'Multiple carriers Premium economy', 'Trujet'], dtype=object)"
      ]
     },
     "execution_count": 14,
     "metadata": {},
     "output_type": "execute_result"
    }
   ],
   "source": [
    "df.Airline.unique()"
   ]
  },
  {
   "cell_type": "code",
   "execution_count": 15,
   "id": "e9266c49-8b62-4a37-8c9f-5c1d16b8a067",
   "metadata": {},
   "outputs": [
    {
     "data": {
      "text/plain": [
       "1587          Jet Airways\n",
       "8144              Vistara\n",
       "4859            Air India\n",
       "7337          Jet Airways\n",
       "3470    Multiple Carriers\n",
       "Name: Airline, dtype: object"
      ]
     },
     "execution_count": 15,
     "metadata": {},
     "output_type": "execute_result"
    }
   ],
   "source": [
    "(\n",
    "\tdf\n",
    "\t.Airline\n",
    "\t.str.replace(\" Premium economy\", \"\")\n",
    "\t.str.replace(\" Business\", \"\")\n",
    "\t.str.title()\n",
    ").sample(5)"
   ]
  },
  {
   "cell_type": "markdown",
   "id": "0284565b-2bd3-461a-a6fb-8346fecb673a",
   "metadata": {},
   "source": [
    "### 4.2 Date of Journey"
   ]
  },
  {
   "cell_type": "code",
   "execution_count": 16,
   "id": "6b681fea-29d7-4aca-bb44-69246be1c7be",
   "metadata": {},
   "outputs": [
    {
     "data": {
      "text/plain": [
       "44"
      ]
     },
     "execution_count": 16,
     "metadata": {},
     "output_type": "execute_result"
    }
   ],
   "source": [
    "df.Date_of_Journey.nunique()"
   ]
  },
  {
   "cell_type": "code",
   "execution_count": 17,
   "id": "7ce22418-6cda-4d70-a2e7-07534fec0664",
   "metadata": {},
   "outputs": [
    {
     "data": {
      "text/plain": [
       "array(['24/03/2019', '1/05/2019', '9/06/2019', '12/05/2019', '01/03/2019',\n",
       "       '24/06/2019', '12/03/2019', '27/05/2019', '1/06/2019',\n",
       "       '18/04/2019', '9/05/2019', '24/04/2019', '3/03/2019', '15/04/2019',\n",
       "       '12/06/2019', '6/03/2019', '21/03/2019', '3/04/2019', '6/05/2019',\n",
       "       '15/05/2019', '18/06/2019', '15/06/2019', '6/04/2019',\n",
       "       '18/05/2019', '27/06/2019', '21/05/2019', '06/03/2019',\n",
       "       '3/06/2019', '15/03/2019', '3/05/2019', '9/03/2019', '6/06/2019',\n",
       "       '24/05/2019', '09/03/2019', '1/04/2019', '21/04/2019',\n",
       "       '21/06/2019', '27/03/2019', '18/03/2019', '12/04/2019',\n",
       "       '9/04/2019', '1/03/2019', '03/03/2019', '27/04/2019'], dtype=object)"
      ]
     },
     "execution_count": 17,
     "metadata": {},
     "output_type": "execute_result"
    }
   ],
   "source": [
    "df.Date_of_Journey.unique()"
   ]
  },
  {
   "cell_type": "code",
   "execution_count": 18,
   "id": "d10d3540-bc2b-44cd-8a03-ce37524ad4f8",
   "metadata": {},
   "outputs": [
    {
     "data": {
      "text/plain": [
       "6750   2019-06-09\n",
       "8666   2019-06-15\n",
       "365    2019-05-15\n",
       "4330   2019-03-24\n",
       "5771   2019-03-18\n",
       "Name: Date_of_Journey, dtype: datetime64[ns]"
      ]
     },
     "execution_count": 18,
     "metadata": {},
     "output_type": "execute_result"
    }
   ],
   "source": [
    "pd.to_datetime(df.Date_of_Journey, dayfirst=True).sample(5)"
   ]
  },
  {
   "cell_type": "markdown",
   "id": "298dddb2-8b59-42f9-84ee-2a81a2396926",
   "metadata": {},
   "source": [
    "### 4.3 Source"
   ]
  },
  {
   "cell_type": "code",
   "execution_count": 19,
   "id": "dfb977fe-32b4-4129-af28-da5cb29634ed",
   "metadata": {},
   "outputs": [
    {
     "data": {
      "text/plain": [
       "5"
      ]
     },
     "execution_count": 19,
     "metadata": {},
     "output_type": "execute_result"
    }
   ],
   "source": [
    "df.Source.nunique()"
   ]
  },
  {
   "cell_type": "code",
   "execution_count": 20,
   "id": "5b2a157f-6215-4020-9bba-bc4c15a0392b",
   "metadata": {},
   "outputs": [
    {
     "data": {
      "text/plain": [
       "array(['Banglore', 'Kolkata', 'Delhi', 'Chennai', 'Mumbai'], dtype=object)"
      ]
     },
     "execution_count": 20,
     "metadata": {},
     "output_type": "execute_result"
    }
   ],
   "source": [
    "df.Source.unique()"
   ]
  },
  {
   "cell_type": "markdown",
   "id": "673973c0-8a47-4bbf-9163-0ca63a4e1e07",
   "metadata": {},
   "source": [
    "### 4.4 Destination"
   ]
  },
  {
   "cell_type": "code",
   "execution_count": 21,
   "id": "667a2fb5-805b-4d26-95b7-6136d5a91bdc",
   "metadata": {},
   "outputs": [
    {
     "data": {
      "text/plain": [
       "6"
      ]
     },
     "execution_count": 21,
     "metadata": {},
     "output_type": "execute_result"
    }
   ],
   "source": [
    "df.Destination.nunique()"
   ]
  },
  {
   "cell_type": "code",
   "execution_count": 22,
   "id": "a89c211a-4fb5-48f8-897e-8cd3d119fd84",
   "metadata": {},
   "outputs": [
    {
     "data": {
      "text/plain": [
       "array(['New Delhi', 'Banglore', 'Cochin', 'Kolkata', 'Delhi', 'Hyderabad'],\n",
       "      dtype=object)"
      ]
     },
     "execution_count": 22,
     "metadata": {},
     "output_type": "execute_result"
    }
   ],
   "source": [
    "df.Destination.unique()"
   ]
  },
  {
   "cell_type": "markdown",
   "id": "328ad8a4-a808-4b5d-a884-4377fec3e696",
   "metadata": {},
   "source": [
    "### 4.5 Route"
   ]
  },
  {
   "cell_type": "code",
   "execution_count": 23,
   "id": "5ef3a35e-9df7-41f0-a6c0-8375a9eeac44",
   "metadata": {},
   "outputs": [
    {
     "data": {
      "text/plain": [
       "3135                 BLR → DEL\n",
       "9452     CCU → GAU → DEL → BLR\n",
       "9019           BLR → BOM → DEL\n",
       "10200    CCU → IXR → DEL → BLR\n",
       "7673           DEL → BOM → COK\n",
       "Name: Route, dtype: object"
      ]
     },
     "execution_count": 23,
     "metadata": {},
     "output_type": "execute_result"
    }
   ],
   "source": [
    "df.Route.sample(5)"
   ]
  },
  {
   "cell_type": "markdown",
   "id": "790eb1eb-7961-4e3d-bed1-3e75aa885460",
   "metadata": {},
   "source": [
    "### 4.6 Departure Time"
   ]
  },
  {
   "cell_type": "code",
   "execution_count": 24,
   "id": "7f3a4b18-f005-40c7-9e7f-aa3b042a0fc3",
   "metadata": {},
   "outputs": [
    {
     "data": {
      "text/plain": [
       "222"
      ]
     },
     "execution_count": 24,
     "metadata": {},
     "output_type": "execute_result"
    }
   ],
   "source": [
    "df.Dep_Time.nunique()"
   ]
  },
  {
   "cell_type": "code",
   "execution_count": 25,
   "id": "dbed25d4-ff31-4a9f-b859-406f9fad028a",
   "metadata": {},
   "outputs": [
    {
     "data": {
      "text/plain": [
       "7282    23:55\n",
       "7167    14:05\n",
       "2504    20:55\n",
       "5491    17:00\n",
       "2494    19:15\n",
       "Name: Dep_Time, dtype: object"
      ]
     },
     "execution_count": 25,
     "metadata": {},
     "output_type": "execute_result"
    }
   ],
   "source": [
    "df.Dep_Time.sample(5)"
   ]
  },
  {
   "cell_type": "code",
   "execution_count": 26,
   "id": "f3a99d58-37c3-43e5-b522-101f8fb9c481",
   "metadata": {},
   "outputs": [
    {
     "data": {
      "text/plain": [
       "Series([], Name: Dep_Time, dtype: object)"
      ]
     },
     "execution_count": 26,
     "metadata": {},
     "output_type": "execute_result"
    }
   ],
   "source": [
    "(\n",
    "    df\n",
    "    .Dep_Time\n",
    "    .loc[lambda x: x.str.contains('[^0-9:]')]\n",
    ")"
   ]
  },
  {
   "cell_type": "code",
   "execution_count": 27,
   "id": "faf17d78-5c6e-440f-b982-86884358e4f4",
   "metadata": {},
   "outputs": [
    {
     "name": "stderr",
     "output_type": "stream",
     "text": [
      "C:\\Users\\rohan\\AppData\\Local\\Temp\\ipykernel_22156\\2859816643.py:1: UserWarning: Could not infer format, so each element will be parsed individually, falling back to `dateutil`. To ensure parsing is consistent and as-expected, please specify a format.\n",
      "  pd.to_datetime(df.Dep_Time).dt.time.sample(5)\n"
     ]
    },
    {
     "data": {
      "text/plain": [
       "9635    15:05:00\n",
       "7456    05:05:00\n",
       "9215    16:50:00\n",
       "1730    06:40:00\n",
       "3115    11:40:00\n",
       "Name: Dep_Time, dtype: object"
      ]
     },
     "execution_count": 27,
     "metadata": {},
     "output_type": "execute_result"
    }
   ],
   "source": [
    "pd.to_datetime(df.Dep_Time).dt.time.sample(5)"
   ]
  },
  {
   "cell_type": "markdown",
   "id": "17275368-5323-4904-9ad7-ac4b5da13517",
   "metadata": {},
   "source": [
    "### 4.7 Arrival Time"
   ]
  },
  {
   "cell_type": "code",
   "execution_count": 28,
   "id": "c23f84ea-6f2f-4d60-b49f-967f83dabb94",
   "metadata": {},
   "outputs": [
    {
     "data": {
      "text/plain": [
       "4748    18:10 25 Mar\n",
       "573            22:35\n",
       "684     00:15 28 May\n",
       "2006           22:40\n",
       "4655    19:15 28 Jun\n",
       "Name: Arrival_Time, dtype: object"
      ]
     },
     "execution_count": 28,
     "metadata": {},
     "output_type": "execute_result"
    }
   ],
   "source": [
    "df.Arrival_Time.sample(5)"
   ]
  },
  {
   "cell_type": "code",
   "execution_count": 29,
   "id": "e0ae2da1-7f08-49d6-9eaa-d00c03245df7",
   "metadata": {},
   "outputs": [
    {
     "data": {
      "text/plain": [
       "array(['22 Mar', '10 Jun', '13 Mar', '02 Mar', '10 May', '04 Mar',\n",
       "       '13 Jun', '28 May', '19 Mar', '07 May', '02 Jun', '16 Jun',\n",
       "       '19 May', '16 May', '28 Jun', '02 May', '28 Mar', '19 Jun',\n",
       "       '04 Apr', '25 Mar', '07 Mar', '25 Jun', '07 Jun', '25 May',\n",
       "       '13 May', '16 Mar', '22 May', '10 Apr', '04 Jun', '20 May',\n",
       "       '28 Apr', '25 Apr', '10 Mar', '19 Apr', '13 Apr', '02 Apr',\n",
       "       '23 Mar', '22 Apr', '11 May', '07 Apr', '03 May', '08 Mar',\n",
       "       '03 Mar', '05 Mar', '22 Jun', '04 May', '26 May', '16 Apr',\n",
       "       '26 Jun', '29 May', '29 Jun', '29 Mar', '23 May', '17 Jun'],\n",
       "      dtype=object)"
      ]
     },
     "execution_count": 29,
     "metadata": {},
     "output_type": "execute_result"
    }
   ],
   "source": [
    "(\n",
    "    df\n",
    "    .Arrival_Time\n",
    "    .loc[lambda x: x.str.contains('[^0-9:]')]\n",
    "    .str.split(n=1)\n",
    "    .str.get(1)\n",
    "    .unique()\n",
    ")"
   ]
  },
  {
   "cell_type": "markdown",
   "id": "c9dabbf4-54c0-4e90-ba60-5bd2c577e338",
   "metadata": {},
   "source": [
    "### 4.8 Duration"
   ]
  },
  {
   "cell_type": "code",
   "execution_count": 30,
   "id": "138dab8f-206d-4ca4-99ea-573884d40e7e",
   "metadata": {},
   "outputs": [
    {
     "data": {
      "text/plain": [
       "4917     6h 20m\n",
       "3340    21h 25m\n",
       "5907     2h 50m\n",
       "8519    12h 25m\n",
       "7601     6h 15m\n",
       "Name: Duration, dtype: object"
      ]
     },
     "execution_count": 30,
     "metadata": {},
     "output_type": "execute_result"
    }
   ],
   "source": [
    "df.Duration.sample(5)"
   ]
  },
  {
   "cell_type": "code",
   "execution_count": 31,
   "id": "af13d950-cfd2-4a80-8b31-f38882994bec",
   "metadata": {},
   "outputs": [
    {
     "data": {
      "text/plain": [
       "array(['19h', '23h', '22h', '12h', '3h', '5h', '10h', '18h', '24h', '15h',\n",
       "       '16h', '8h', '14h', '20h', '13h', '11h', '9h', '27h', '26h', '4h',\n",
       "       '7h', '30h', '21h', '28h', '47h', '6h', '25h', '38h', '34h'],\n",
       "      dtype=object)"
      ]
     },
     "execution_count": 31,
     "metadata": {},
     "output_type": "execute_result"
    }
   ],
   "source": [
    "(\n",
    "    df\n",
    "    .Duration\n",
    "    .loc[lambda x: ~x.str.contains('m')]\n",
    "    .unique()\n",
    ")"
   ]
  },
  {
   "cell_type": "code",
   "execution_count": 32,
   "id": "a21c4ffc-b370-43f3-97c4-b9b0f95f16ec",
   "metadata": {},
   "outputs": [
    {
     "data": {
      "text/plain": [
       "array(['5m'], dtype=object)"
      ]
     },
     "execution_count": 32,
     "metadata": {},
     "output_type": "execute_result"
    }
   ],
   "source": [
    "(\n",
    "    df\n",
    "    .Duration\n",
    "    .loc[lambda x: ~x.str.contains('h')]\n",
    "    .unique()\n",
    ")"
   ]
  },
  {
   "cell_type": "code",
   "execution_count": 33,
   "id": "95c6c1bf-289f-403f-be35-748b540ea8c0",
   "metadata": {},
   "outputs": [
    {
     "data": {
      "text/plain": [
       "6474    5m\n",
       "Name: Duration, dtype: object"
      ]
     },
     "execution_count": 33,
     "metadata": {},
     "output_type": "execute_result"
    }
   ],
   "source": [
    "(\n",
    "    df\n",
    "    .Duration\n",
    "    .loc[lambda x: ~x.str.contains('h')]\n",
    ")"
   ]
  },
  {
   "cell_type": "code",
   "execution_count": 34,
   "id": "9df9bc27-af40-4f23-9f91-3566f2cb8df5",
   "metadata": {},
   "outputs": [
    {
     "data": {
      "text/html": [
       "<div>\n",
       "<style scoped>\n",
       "    .dataframe tbody tr th:only-of-type {\n",
       "        vertical-align: middle;\n",
       "    }\n",
       "\n",
       "    .dataframe tbody tr th {\n",
       "        vertical-align: top;\n",
       "    }\n",
       "\n",
       "    .dataframe thead th {\n",
       "        text-align: right;\n",
       "    }\n",
       "</style>\n",
       "<table border=\"1\" class=\"dataframe\">\n",
       "  <thead>\n",
       "    <tr style=\"text-align: right;\">\n",
       "      <th></th>\n",
       "      <th>Airline</th>\n",
       "      <th>Date_of_Journey</th>\n",
       "      <th>Source</th>\n",
       "      <th>Destination</th>\n",
       "      <th>Route</th>\n",
       "      <th>Dep_Time</th>\n",
       "      <th>Arrival_Time</th>\n",
       "      <th>Duration</th>\n",
       "      <th>Total_Stops</th>\n",
       "      <th>Additional_Info</th>\n",
       "      <th>Price</th>\n",
       "    </tr>\n",
       "  </thead>\n",
       "  <tbody>\n",
       "    <tr>\n",
       "      <th>6474</th>\n",
       "      <td>Air India</td>\n",
       "      <td>6/03/2019</td>\n",
       "      <td>Mumbai</td>\n",
       "      <td>Hyderabad</td>\n",
       "      <td>BOM → GOI → PNQ → HYD</td>\n",
       "      <td>16:50</td>\n",
       "      <td>16:55</td>\n",
       "      <td>5m</td>\n",
       "      <td>2 stops</td>\n",
       "      <td>No info</td>\n",
       "      <td>17327</td>\n",
       "    </tr>\n",
       "  </tbody>\n",
       "</table>\n",
       "</div>"
      ],
      "text/plain": [
       "        Airline Date_of_Journey  Source Destination                  Route  \\\n",
       "6474  Air India       6/03/2019  Mumbai   Hyderabad  BOM → GOI → PNQ → HYD   \n",
       "\n",
       "     Dep_Time Arrival_Time Duration Total_Stops Additional_Info  Price  \n",
       "6474    16:50        16:55       5m     2 stops         No info  17327  "
      ]
     },
     "execution_count": 34,
     "metadata": {},
     "output_type": "execute_result"
    }
   ],
   "source": [
    "df.iloc[[6474]]"
   ]
  },
  {
   "cell_type": "code",
   "execution_count": 35,
   "id": "afd9b9d8-0a7c-4c9e-8ecf-f69005989e69",
   "metadata": {},
   "outputs": [
    {
     "data": {
      "text/html": [
       "<div>\n",
       "<style scoped>\n",
       "    .dataframe tbody tr th:only-of-type {\n",
       "        vertical-align: middle;\n",
       "    }\n",
       "\n",
       "    .dataframe tbody tr th {\n",
       "        vertical-align: top;\n",
       "    }\n",
       "\n",
       "    .dataframe thead th {\n",
       "        text-align: right;\n",
       "    }\n",
       "</style>\n",
       "<table border=\"1\" class=\"dataframe\">\n",
       "  <thead>\n",
       "    <tr style=\"text-align: right;\">\n",
       "      <th></th>\n",
       "      <th>duration_minutes</th>\n",
       "      <th>Duration</th>\n",
       "    </tr>\n",
       "  </thead>\n",
       "  <tbody>\n",
       "    <tr>\n",
       "      <th>2427</th>\n",
       "      <td>590</td>\n",
       "      <td>9h 50m</td>\n",
       "    </tr>\n",
       "    <tr>\n",
       "      <th>3398</th>\n",
       "      <td>155</td>\n",
       "      <td>2h 35m</td>\n",
       "    </tr>\n",
       "    <tr>\n",
       "      <th>10244</th>\n",
       "      <td>475</td>\n",
       "      <td>7h 55m</td>\n",
       "    </tr>\n",
       "    <tr>\n",
       "      <th>7465</th>\n",
       "      <td>180</td>\n",
       "      <td>3h</td>\n",
       "    </tr>\n",
       "    <tr>\n",
       "      <th>4107</th>\n",
       "      <td>170</td>\n",
       "      <td>2h 50m</td>\n",
       "    </tr>\n",
       "  </tbody>\n",
       "</table>\n",
       "</div>"
      ],
      "text/plain": [
       "       duration_minutes Duration\n",
       "2427                590   9h 50m\n",
       "3398                155   2h 35m\n",
       "10244               475   7h 55m\n",
       "7465                180       3h\n",
       "4107                170   2h 50m"
      ]
     },
     "execution_count": 35,
     "metadata": {},
     "output_type": "execute_result"
    }
   ],
   "source": [
    "(\n",
    "    df\n",
    "    .Duration\n",
    "    .drop(index=6474)\n",
    "    .str.split(expand=True)\n",
    "    .set_axis(['hour', 'minute'], axis=1)\n",
    "    .assign(\n",
    "        hour = lambda df_: (\n",
    "            df_\n",
    "            .hour\n",
    "            .str.replace('h','')\n",
    "            .astype(int)\n",
    "            .mul(60)\n",
    "        ),\n",
    "        minute = lambda df_: (\n",
    "            df_\n",
    "            .minute\n",
    "            .str.replace('m','')\n",
    "            .fillna('0')\n",
    "            .astype(int)\n",
    "        )\n",
    "    )\n",
    "    .sum(axis=1)\n",
    "    .rename('duration_minutes')\n",
    "    .to_frame()\n",
    "    .join(df.Duration)\n",
    ").sample(5)"
   ]
  },
  {
   "cell_type": "markdown",
   "id": "03624c4c-3d74-4dce-baea-a8a8098c9c1b",
   "metadata": {},
   "source": [
    "### 4.9 Total Stops"
   ]
  },
  {
   "cell_type": "code",
   "execution_count": 36,
   "id": "ef9917c7-c4f5-48de-9056-d76929f87904",
   "metadata": {},
   "outputs": [
    {
     "data": {
      "text/plain": [
       "5"
      ]
     },
     "execution_count": 36,
     "metadata": {},
     "output_type": "execute_result"
    }
   ],
   "source": [
    "df.Total_Stops.nunique()"
   ]
  },
  {
   "cell_type": "code",
   "execution_count": 37,
   "id": "badfac55-8e02-4103-99cb-0d5f8cbe2171",
   "metadata": {},
   "outputs": [
    {
     "data": {
      "text/plain": [
       "array(['non-stop', '2 stops', '1 stop', '3 stops', nan, '4 stops'],\n",
       "      dtype=object)"
      ]
     },
     "execution_count": 37,
     "metadata": {},
     "output_type": "execute_result"
    }
   ],
   "source": [
    "df.Total_Stops.unique()"
   ]
  },
  {
   "cell_type": "code",
   "execution_count": 38,
   "id": "763627f5-fbff-4869-9404-ca6d1e7b3578",
   "metadata": {},
   "outputs": [
    {
     "data": {
      "text/plain": [
       "array([ 0.,  2.,  1.,  3., nan,  4.])"
      ]
     },
     "execution_count": 38,
     "metadata": {},
     "output_type": "execute_result"
    }
   ],
   "source": [
    "(\n",
    "    df\n",
    "    .Total_Stops\n",
    "    .str.replace('non-stop', '0')\n",
    "    .str.replace('stops?', '', regex=True)\n",
    "    .pipe(lambda x: pd.to_numeric(x))\n",
    ").unique()"
   ]
  },
  {
   "cell_type": "markdown",
   "id": "e077892b-edf3-427a-b34a-7065edf3eab8",
   "metadata": {},
   "source": [
    "### 4.10 Additional Info"
   ]
  },
  {
   "cell_type": "code",
   "execution_count": 39,
   "id": "2e4d83e3-4af1-47d4-a90f-60f0588c0143",
   "metadata": {},
   "outputs": [
    {
     "data": {
      "text/plain": [
       "10"
      ]
     },
     "execution_count": 39,
     "metadata": {},
     "output_type": "execute_result"
    }
   ],
   "source": [
    "df.Additional_Info.nunique()"
   ]
  },
  {
   "cell_type": "code",
   "execution_count": 40,
   "id": "04a52e43-2a94-4c96-8c66-98aa19bc508f",
   "metadata": {},
   "outputs": [
    {
     "data": {
      "text/plain": [
       "array(['No info', 'In-flight meal not included',\n",
       "       'No check-in baggage included', '1 Short layover', 'No Info',\n",
       "       '1 Long layover', 'Change airports', 'Business class',\n",
       "       'Red-eye flight', '2 Long layover'], dtype=object)"
      ]
     },
     "execution_count": 40,
     "metadata": {},
     "output_type": "execute_result"
    }
   ],
   "source": [
    "df.Additional_Info.unique()"
   ]
  },
  {
   "cell_type": "code",
   "execution_count": 41,
   "id": "c6ff3bd4-2849-47da-8c3f-b1badbcf12fb",
   "metadata": {},
   "outputs": [
    {
     "data": {
      "text/plain": [
       "array(['no info', 'in-flight meal not included',\n",
       "       'no check-in baggage included', '1 short layover',\n",
       "       '1 long layover', 'change airports', 'business class',\n",
       "       'red-eye flight', '2 long layover'], dtype=object)"
      ]
     },
     "execution_count": 41,
     "metadata": {},
     "output_type": "execute_result"
    }
   ],
   "source": [
    "(\n",
    "    df\n",
    "    .Additional_Info\n",
    "    .str.lower()\n",
    ").unique()"
   ]
  },
  {
   "cell_type": "markdown",
   "id": "4115aca1-b55f-437a-9424-9657bb8e7e9f",
   "metadata": {},
   "source": [
    "### 4.11 Price"
   ]
  },
  {
   "cell_type": "code",
   "execution_count": 42,
   "id": "486edf73-2702-4727-9fb0-d0f0658d3fd8",
   "metadata": {},
   "outputs": [
    {
     "data": {
      "text/plain": [
       "9479    15119\n",
       "6156     3841\n",
       "2226     5583\n",
       "7132     5117\n",
       "3597    11228\n",
       "Name: Price, dtype: int64"
      ]
     },
     "execution_count": 42,
     "metadata": {},
     "output_type": "execute_result"
    }
   ],
   "source": [
    "df.Price.sample(5)"
   ]
  },
  {
   "cell_type": "code",
   "execution_count": 43,
   "id": "f7afc496-6266-461f-b9f8-f485545eba91",
   "metadata": {},
   "outputs": [
    {
     "data": {
      "text/plain": [
       "1870"
      ]
     },
     "execution_count": 43,
     "metadata": {},
     "output_type": "execute_result"
    }
   ],
   "source": [
    "df.Price.nunique()"
   ]
  },
  {
   "cell_type": "markdown",
   "id": "b69fa6dd-551d-4bb5-83cf-4df4c90be153",
   "metadata": {},
   "source": [
    "## 5. Cleaning Operation"
   ]
  },
  {
   "cell_type": "code",
   "execution_count": 44,
   "id": "baaab47a-947f-4475-8c3f-e420f52903fe",
   "metadata": {},
   "outputs": [],
   "source": [
    "def clean_column_names(df):\n",
    "    # Convert all column names to lowercase for consistency\n",
    "    return df.rename(columns=str.lower)\n",
    "\n",
    "def strip_string_columns(df):\n",
    "    # Identify columns with string data type\n",
    "    string_columns = df.select_dtypes(include='O').columns\n",
    "    # Strip leading and trailing whitespace from all string columns\n",
    "    for col in string_columns:\n",
    "        df[col] = df[col].str.strip()\n",
    "    return df\n",
    "\n",
    "def clean_airline_names(df):\n",
    "    # Clean and standardize 'airline' column by removing specific substrings and title-casing\n",
    "    df['airline'] = (\n",
    "        df['airline']\n",
    "        .str.replace(\" Premium economy\", \"\")\n",
    "        .str.replace(\" Business\", \"\")\n",
    "        .str.title()\n",
    "    )\n",
    "    return df\n",
    "\n",
    "def convert_dates(df):\n",
    "    # Convert 'date_of_journey' column to datetime format, assuming day-first format\n",
    "    df['date_of_journey'] = pd.to_datetime(df['date_of_journey'], dayfirst=True)\n",
    "    return df\n",
    "\n",
    "def convert_times(df):\n",
    "    # Convert 'dep_time' and 'arrival_time' columns to time format\n",
    "    df['dep_time'] = pd.to_datetime(df['dep_time']).dt.time\n",
    "    df['arrival_time'] = pd.to_datetime(df['arrival_time']).dt.time\n",
    "    return df\n",
    "\n",
    "def convert_duration(df):\n",
    "    # Split 'duration' column into hours and minutes\n",
    "    duration_split = df['duration'].str.split(\" \", expand=True).set_axis([\"hour\", \"minute\"], axis=1)\n",
    "    # Convert hours to minutes and fill missing minutes with 0\n",
    "    duration_split['hour'] = duration_split['hour'].str.replace(\"h\", \"\").astype(int).mul(60)\n",
    "    duration_split['minute'] = duration_split['minute'].str.replace(\"m\", \"\").fillna(\"0\").astype(int)\n",
    "    # Sum hours and minutes to get total duration in minutes\n",
    "    df['duration_minute'] = duration_split.sum(axis=1)\n",
    "    # drop duration column\n",
    "    df = df.drop(columns=['duration'])\n",
    "    return df\n",
    "\n",
    "def convert_total_stops(df):\n",
    "    # Standardize and convert 'total_stops' column to numeric\n",
    "    df['total_stops'] = (\n",
    "        df['total_stops']\n",
    "        .replace(\"non-stop\", \"0\")  # Replace 'non-stop' with '0'\n",
    "        .str.replace(\" stops?\", \"\", regex=True)  # Remove ' stop' or ' stops'\n",
    "        .pipe(lambda ser: pd.to_numeric(ser))  # Convert to numeric\n",
    "    )\n",
    "    return df\n",
    "\n",
    "def lower_additional_info(df):\n",
    "    # Convert 'additional_info' column to lowercase\n",
    "    df['additional_info'] = df['additional_info'].str.lower()\n",
    "    return df\n",
    "\n",
    "def preprocess_df(df):\n",
    "    # Drop rows where 'Duration' is '5m' and drop the 'Route' column\n",
    "    df = df.drop(index=df[df['Duration'].isin(['5m'])].index, columns=['Route'])\n",
    "    # Drop duplicate rows to ensure data consistency\n",
    "    df = df.drop_duplicates()\n",
    "    # Drop null values\n",
    "    df = df.dropna()\n",
    "    # Apply all preprocessing steps in sequence to clean and standardize the DataFrame\n",
    "    df = clean_column_names(df)         # Convert column names to lowercase\n",
    "    df = strip_string_columns(df)       # Strip leading/trailing whitespace from string columns\n",
    "    df = clean_airline_names(df)        # Clean and standardize 'airline' column\n",
    "    df = convert_dates(df)              # Convert 'date_of_journey' column to datetime format\n",
    "    df = convert_times(df)              # Convert 'dep_time' and 'arrival_time' columns to time format\n",
    "    df = convert_duration(df)           # Convert 'duration' column to total minutes\n",
    "    df = convert_total_stops(df)        # Standardize and convert 'total_stops' column to numeric\n",
    "    df = lower_additional_info(df)      # Convert 'additional_info' column to lowercase\n",
    "    # Drop duplicate rows to ensure data consistency\n",
    "    df = df.drop_duplicates()\n",
    "    return df"
   ]
  },
  {
   "cell_type": "code",
   "execution_count": 45,
   "id": "5dd70e2d-adce-4cad-9479-5a14505100a2",
   "metadata": {},
   "outputs": [
    {
     "name": "stderr",
     "output_type": "stream",
     "text": [
      "C:\\Users\\rohan\\AppData\\Local\\Temp\\ipykernel_22156\\480543875.py:30: UserWarning: Could not infer format, so each element will be parsed individually, falling back to `dateutil`. To ensure parsing is consistent and as-expected, please specify a format.\n",
      "  df['dep_time'] = pd.to_datetime(df['dep_time']).dt.time\n",
      "C:\\Users\\rohan\\AppData\\Local\\Temp\\ipykernel_22156\\480543875.py:31: UserWarning: Could not infer format, so each element will be parsed individually, falling back to `dateutil`. To ensure parsing is consistent and as-expected, please specify a format.\n",
      "  df['arrival_time'] = pd.to_datetime(df['arrival_time']).dt.time\n"
     ]
    }
   ],
   "source": [
    "df = preprocess_df(df)"
   ]
  },
  {
   "cell_type": "code",
   "execution_count": 46,
   "id": "d390837a-77c3-4406-9204-295abd0ed7a8",
   "metadata": {},
   "outputs": [],
   "source": [
    "columns = [\n",
    "    'airline', 'date_of_journey', 'source', 'destination', 'dep_time',\n",
    "    'arrival_time',  'duration_minute', 'total_stops', 'additional_info',\n",
    "    'price',\n",
    "]"
   ]
  },
  {
   "cell_type": "code",
   "execution_count": 47,
   "id": "013e8454-4635-4acd-a397-f9cb1b168de9",
   "metadata": {},
   "outputs": [],
   "source": [
    "df = df[columns]"
   ]
  },
  {
   "cell_type": "code",
   "execution_count": 48,
   "id": "4065ff6a-a61b-41dd-9cd9-48fa2b0f5958",
   "metadata": {},
   "outputs": [
    {
     "data": {
      "text/html": [
       "<div>\n",
       "<style scoped>\n",
       "    .dataframe tbody tr th:only-of-type {\n",
       "        vertical-align: middle;\n",
       "    }\n",
       "\n",
       "    .dataframe tbody tr th {\n",
       "        vertical-align: top;\n",
       "    }\n",
       "\n",
       "    .dataframe thead th {\n",
       "        text-align: right;\n",
       "    }\n",
       "</style>\n",
       "<table border=\"1\" class=\"dataframe\">\n",
       "  <thead>\n",
       "    <tr style=\"text-align: right;\">\n",
       "      <th></th>\n",
       "      <th>airline</th>\n",
       "      <th>date_of_journey</th>\n",
       "      <th>source</th>\n",
       "      <th>destination</th>\n",
       "      <th>dep_time</th>\n",
       "      <th>arrival_time</th>\n",
       "      <th>duration_minute</th>\n",
       "      <th>total_stops</th>\n",
       "      <th>additional_info</th>\n",
       "      <th>price</th>\n",
       "    </tr>\n",
       "  </thead>\n",
       "  <tbody>\n",
       "    <tr>\n",
       "      <th>2787</th>\n",
       "      <td>Jet Airways</td>\n",
       "      <td>2019-06-06</td>\n",
       "      <td>Kolkata</td>\n",
       "      <td>Banglore</td>\n",
       "      <td>18:55:00</td>\n",
       "      <td>04:40:00</td>\n",
       "      <td>585</td>\n",
       "      <td>1</td>\n",
       "      <td>in-flight meal not included</td>\n",
       "      <td>7757</td>\n",
       "    </tr>\n",
       "    <tr>\n",
       "      <th>1860</th>\n",
       "      <td>Jet Airways</td>\n",
       "      <td>2019-05-09</td>\n",
       "      <td>Kolkata</td>\n",
       "      <td>Banglore</td>\n",
       "      <td>16:30:00</td>\n",
       "      <td>08:15:00</td>\n",
       "      <td>945</td>\n",
       "      <td>1</td>\n",
       "      <td>no info</td>\n",
       "      <td>13941</td>\n",
       "    </tr>\n",
       "    <tr>\n",
       "      <th>8758</th>\n",
       "      <td>Air India</td>\n",
       "      <td>2019-05-06</td>\n",
       "      <td>Kolkata</td>\n",
       "      <td>Banglore</td>\n",
       "      <td>12:00:00</td>\n",
       "      <td>18:30:00</td>\n",
       "      <td>1830</td>\n",
       "      <td>2</td>\n",
       "      <td>no info</td>\n",
       "      <td>10151</td>\n",
       "    </tr>\n",
       "    <tr>\n",
       "      <th>5223</th>\n",
       "      <td>Spicejet</td>\n",
       "      <td>2019-06-01</td>\n",
       "      <td>Kolkata</td>\n",
       "      <td>Banglore</td>\n",
       "      <td>14:55:00</td>\n",
       "      <td>17:25:00</td>\n",
       "      <td>150</td>\n",
       "      <td>0</td>\n",
       "      <td>no check-in baggage included</td>\n",
       "      <td>3841</td>\n",
       "    </tr>\n",
       "    <tr>\n",
       "      <th>1194</th>\n",
       "      <td>Air India</td>\n",
       "      <td>2019-03-21</td>\n",
       "      <td>Banglore</td>\n",
       "      <td>New Delhi</td>\n",
       "      <td>11:50:00</td>\n",
       "      <td>23:55:00</td>\n",
       "      <td>725</td>\n",
       "      <td>1</td>\n",
       "      <td>no info</td>\n",
       "      <td>5092</td>\n",
       "    </tr>\n",
       "    <tr>\n",
       "      <th>8210</th>\n",
       "      <td>Jet Airways</td>\n",
       "      <td>2019-05-01</td>\n",
       "      <td>Kolkata</td>\n",
       "      <td>Banglore</td>\n",
       "      <td>21:10:00</td>\n",
       "      <td>09:20:00</td>\n",
       "      <td>730</td>\n",
       "      <td>1</td>\n",
       "      <td>no info</td>\n",
       "      <td>14781</td>\n",
       "    </tr>\n",
       "    <tr>\n",
       "      <th>2673</th>\n",
       "      <td>Jet Airways</td>\n",
       "      <td>2019-04-01</td>\n",
       "      <td>Kolkata</td>\n",
       "      <td>Banglore</td>\n",
       "      <td>06:30:00</td>\n",
       "      <td>12:00:00</td>\n",
       "      <td>330</td>\n",
       "      <td>1</td>\n",
       "      <td>in-flight meal not included</td>\n",
       "      <td>10056</td>\n",
       "    </tr>\n",
       "    <tr>\n",
       "      <th>2842</th>\n",
       "      <td>Air India</td>\n",
       "      <td>2019-05-01</td>\n",
       "      <td>Delhi</td>\n",
       "      <td>Cochin</td>\n",
       "      <td>20:40:00</td>\n",
       "      <td>09:25:00</td>\n",
       "      <td>765</td>\n",
       "      <td>1</td>\n",
       "      <td>no info</td>\n",
       "      <td>7480</td>\n",
       "    </tr>\n",
       "    <tr>\n",
       "      <th>6822</th>\n",
       "      <td>Jet Airways</td>\n",
       "      <td>2019-04-01</td>\n",
       "      <td>Kolkata</td>\n",
       "      <td>Banglore</td>\n",
       "      <td>20:00:00</td>\n",
       "      <td>19:50:00</td>\n",
       "      <td>1430</td>\n",
       "      <td>1</td>\n",
       "      <td>in-flight meal not included</td>\n",
       "      <td>7064</td>\n",
       "    </tr>\n",
       "    <tr>\n",
       "      <th>6942</th>\n",
       "      <td>Indigo</td>\n",
       "      <td>2019-05-12</td>\n",
       "      <td>Chennai</td>\n",
       "      <td>Kolkata</td>\n",
       "      <td>19:35:00</td>\n",
       "      <td>21:55:00</td>\n",
       "      <td>140</td>\n",
       "      <td>0</td>\n",
       "      <td>no info</td>\n",
       "      <td>3597</td>\n",
       "    </tr>\n",
       "  </tbody>\n",
       "</table>\n",
       "</div>"
      ],
      "text/plain": [
       "          airline date_of_journey    source destination  dep_time  \\\n",
       "2787  Jet Airways      2019-06-06   Kolkata    Banglore  18:55:00   \n",
       "1860  Jet Airways      2019-05-09   Kolkata    Banglore  16:30:00   \n",
       "8758    Air India      2019-05-06   Kolkata    Banglore  12:00:00   \n",
       "5223     Spicejet      2019-06-01   Kolkata    Banglore  14:55:00   \n",
       "1194    Air India      2019-03-21  Banglore   New Delhi  11:50:00   \n",
       "8210  Jet Airways      2019-05-01   Kolkata    Banglore  21:10:00   \n",
       "2673  Jet Airways      2019-04-01   Kolkata    Banglore  06:30:00   \n",
       "2842    Air India      2019-05-01     Delhi      Cochin  20:40:00   \n",
       "6822  Jet Airways      2019-04-01   Kolkata    Banglore  20:00:00   \n",
       "6942       Indigo      2019-05-12   Chennai     Kolkata  19:35:00   \n",
       "\n",
       "     arrival_time  duration_minute  total_stops               additional_info  \\\n",
       "2787     04:40:00              585            1   in-flight meal not included   \n",
       "1860     08:15:00              945            1                       no info   \n",
       "8758     18:30:00             1830            2                       no info   \n",
       "5223     17:25:00              150            0  no check-in baggage included   \n",
       "1194     23:55:00              725            1                       no info   \n",
       "8210     09:20:00              730            1                       no info   \n",
       "2673     12:00:00              330            1   in-flight meal not included   \n",
       "2842     09:25:00              765            1                       no info   \n",
       "6822     19:50:00             1430            1   in-flight meal not included   \n",
       "6942     21:55:00              140            0                       no info   \n",
       "\n",
       "      price  \n",
       "2787   7757  \n",
       "1860  13941  \n",
       "8758  10151  \n",
       "5223   3841  \n",
       "1194   5092  \n",
       "8210  14781  \n",
       "2673  10056  \n",
       "2842   7480  \n",
       "6822   7064  \n",
       "6942   3597  "
      ]
     },
     "execution_count": 48,
     "metadata": {},
     "output_type": "execute_result"
    }
   ],
   "source": [
    "df.sample(10)"
   ]
  },
  {
   "cell_type": "markdown",
   "id": "7fa36d80-c73e-402c-a856-833dd158da9e",
   "metadata": {},
   "source": [
    "## 6. Split The Datset"
   ]
  },
  {
   "cell_type": "code",
   "execution_count": 49,
   "id": "829e6990-6029-4ed1-ac58-b901c56adf00",
   "metadata": {},
   "outputs": [
    {
     "name": "stdout",
     "output_type": "stream",
     "text": [
      "(6693, 9) (6693,)\n",
      "(1674, 9) (1674,)\n",
      "(2092, 9) (2092,)\n"
     ]
    }
   ],
   "source": [
    "X = df.drop(columns=\"price\")\n",
    "y = df.price.copy()\n",
    "\n",
    "X_, X_test, y_, y_test = train_test_split(X, y, test_size=0.2, random_state=42)\n",
    "X_train, X_val, y_train, y_val = train_test_split(X_, y_, test_size=0.2, random_state=42)\n",
    "\n",
    "print(X_train.shape, y_train.shape)\n",
    "print(X_val.shape, y_val.shape)\n",
    "print(X_test.shape, y_test.shape)"
   ]
  },
  {
   "cell_type": "markdown",
   "id": "b0570352-b341-4a3f-a331-fb811b889323",
   "metadata": {},
   "source": [
    "## 7. Export The Datset Subset"
   ]
  },
  {
   "cell_type": "code",
   "execution_count": 50,
   "id": "0f983429-b144-4f37-bfba-f5496b033f6d",
   "metadata": {},
   "outputs": [],
   "source": [
    "def export_dataset(X, y, name):\n",
    "\tfile_name = f\"{name}.csv\"\n",
    "\tfile_path = os.path.join(PROJECT_DIR, DATA_DIR, file_name)\n",
    "\tX.join(y).to_csv(file_path, index=False)"
   ]
  },
  {
   "cell_type": "code",
   "execution_count": 51,
   "id": "4f191d2f-be83-49cd-9b07-e67c99779b73",
   "metadata": {},
   "outputs": [],
   "source": [
    "export_dataset(X_train, y_train, 'train')\n",
    "export_dataset(X_val, y_val, 'validation')\n",
    "export_dataset(X_test, y_test, 'test')"
   ]
  },
  {
   "cell_type": "code",
   "execution_count": 52,
   "id": "e2ade396-380a-4cee-b0b1-6d7dc2b45fb4",
   "metadata": {},
   "outputs": [
    {
     "data": {
      "text/html": [
       "<div>\n",
       "<style scoped>\n",
       "    .dataframe tbody tr th:only-of-type {\n",
       "        vertical-align: middle;\n",
       "    }\n",
       "\n",
       "    .dataframe tbody tr th {\n",
       "        vertical-align: top;\n",
       "    }\n",
       "\n",
       "    .dataframe thead th {\n",
       "        text-align: right;\n",
       "    }\n",
       "</style>\n",
       "<table border=\"1\" class=\"dataframe\">\n",
       "  <thead>\n",
       "    <tr style=\"text-align: right;\">\n",
       "      <th></th>\n",
       "      <th>airline</th>\n",
       "      <th>date_of_journey</th>\n",
       "      <th>source</th>\n",
       "      <th>destination</th>\n",
       "      <th>dep_time</th>\n",
       "      <th>arrival_time</th>\n",
       "      <th>duration_minute</th>\n",
       "      <th>total_stops</th>\n",
       "      <th>additional_info</th>\n",
       "      <th>price</th>\n",
       "    </tr>\n",
       "  </thead>\n",
       "  <tbody>\n",
       "    <tr>\n",
       "      <th>4202</th>\n",
       "      <td>Air India</td>\n",
       "      <td>2019-03-21</td>\n",
       "      <td>Banglore</td>\n",
       "      <td>New Delhi</td>\n",
       "      <td>08:15:00</td>\n",
       "      <td>11:20:00</td>\n",
       "      <td>1625</td>\n",
       "      <td>2</td>\n",
       "      <td>no info</td>\n",
       "      <td>7642</td>\n",
       "    </tr>\n",
       "    <tr>\n",
       "      <th>5132</th>\n",
       "      <td>Indigo</td>\n",
       "      <td>2019-05-21</td>\n",
       "      <td>Kolkata</td>\n",
       "      <td>Banglore</td>\n",
       "      <td>17:15:00</td>\n",
       "      <td>19:50:00</td>\n",
       "      <td>155</td>\n",
       "      <td>0</td>\n",
       "      <td>no info</td>\n",
       "      <td>4804</td>\n",
       "    </tr>\n",
       "    <tr>\n",
       "      <th>3536</th>\n",
       "      <td>Multiple Carriers</td>\n",
       "      <td>2019-03-27</td>\n",
       "      <td>Delhi</td>\n",
       "      <td>Cochin</td>\n",
       "      <td>10:20:00</td>\n",
       "      <td>21:00:00</td>\n",
       "      <td>640</td>\n",
       "      <td>1</td>\n",
       "      <td>no info</td>\n",
       "      <td>6637</td>\n",
       "    </tr>\n",
       "  </tbody>\n",
       "</table>\n",
       "</div>"
      ],
      "text/plain": [
       "                airline date_of_journey    source destination  dep_time  \\\n",
       "4202          Air India      2019-03-21  Banglore   New Delhi  08:15:00   \n",
       "5132             Indigo      2019-05-21   Kolkata    Banglore  17:15:00   \n",
       "3536  Multiple Carriers      2019-03-27     Delhi      Cochin  10:20:00   \n",
       "\n",
       "     arrival_time  duration_minute  total_stops additional_info  price  \n",
       "4202     11:20:00             1625            2         no info   7642  \n",
       "5132     19:50:00              155            0         no info   4804  \n",
       "3536     21:00:00              640            1         no info   6637  "
      ]
     },
     "execution_count": 52,
     "metadata": {},
     "output_type": "execute_result"
    }
   ],
   "source": [
    "get_dataset('train').sample(3)"
   ]
  },
  {
   "cell_type": "code",
   "execution_count": 53,
   "id": "2e26c8da-0e72-4a84-b8c1-bebdb9b16497",
   "metadata": {},
   "outputs": [
    {
     "data": {
      "text/html": [
       "<div>\n",
       "<style scoped>\n",
       "    .dataframe tbody tr th:only-of-type {\n",
       "        vertical-align: middle;\n",
       "    }\n",
       "\n",
       "    .dataframe tbody tr th {\n",
       "        vertical-align: top;\n",
       "    }\n",
       "\n",
       "    .dataframe thead th {\n",
       "        text-align: right;\n",
       "    }\n",
       "</style>\n",
       "<table border=\"1\" class=\"dataframe\">\n",
       "  <thead>\n",
       "    <tr style=\"text-align: right;\">\n",
       "      <th></th>\n",
       "      <th>airline</th>\n",
       "      <th>date_of_journey</th>\n",
       "      <th>source</th>\n",
       "      <th>destination</th>\n",
       "      <th>dep_time</th>\n",
       "      <th>arrival_time</th>\n",
       "      <th>duration_minute</th>\n",
       "      <th>total_stops</th>\n",
       "      <th>additional_info</th>\n",
       "      <th>price</th>\n",
       "    </tr>\n",
       "  </thead>\n",
       "  <tbody>\n",
       "    <tr>\n",
       "      <th>332</th>\n",
       "      <td>Air India</td>\n",
       "      <td>2019-04-01</td>\n",
       "      <td>Kolkata</td>\n",
       "      <td>Banglore</td>\n",
       "      <td>17:30:00</td>\n",
       "      <td>08:55:00</td>\n",
       "      <td>925</td>\n",
       "      <td>1</td>\n",
       "      <td>no info</td>\n",
       "      <td>7893</td>\n",
       "    </tr>\n",
       "    <tr>\n",
       "      <th>1622</th>\n",
       "      <td>Spicejet</td>\n",
       "      <td>2019-04-15</td>\n",
       "      <td>Kolkata</td>\n",
       "      <td>Banglore</td>\n",
       "      <td>06:55:00</td>\n",
       "      <td>09:30:00</td>\n",
       "      <td>155</td>\n",
       "      <td>0</td>\n",
       "      <td>no info</td>\n",
       "      <td>3873</td>\n",
       "    </tr>\n",
       "    <tr>\n",
       "      <th>533</th>\n",
       "      <td>Indigo</td>\n",
       "      <td>2019-06-27</td>\n",
       "      <td>Mumbai</td>\n",
       "      <td>Hyderabad</td>\n",
       "      <td>16:55:00</td>\n",
       "      <td>18:25:00</td>\n",
       "      <td>90</td>\n",
       "      <td>0</td>\n",
       "      <td>no info</td>\n",
       "      <td>3175</td>\n",
       "    </tr>\n",
       "  </tbody>\n",
       "</table>\n",
       "</div>"
      ],
      "text/plain": [
       "        airline date_of_journey   source destination  dep_time arrival_time  \\\n",
       "332   Air India      2019-04-01  Kolkata    Banglore  17:30:00     08:55:00   \n",
       "1622   Spicejet      2019-04-15  Kolkata    Banglore  06:55:00     09:30:00   \n",
       "533      Indigo      2019-06-27   Mumbai   Hyderabad  16:55:00     18:25:00   \n",
       "\n",
       "      duration_minute  total_stops additional_info  price  \n",
       "332               925            1         no info   7893  \n",
       "1622              155            0         no info   3873  \n",
       "533                90            0         no info   3175  "
      ]
     },
     "execution_count": 53,
     "metadata": {},
     "output_type": "execute_result"
    }
   ],
   "source": [
    "get_dataset('validation').sample(3)"
   ]
  },
  {
   "cell_type": "code",
   "execution_count": 54,
   "id": "fb5f932a-862c-4b5d-aba2-d9b50e2e0ca3",
   "metadata": {},
   "outputs": [
    {
     "data": {
      "text/html": [
       "<div>\n",
       "<style scoped>\n",
       "    .dataframe tbody tr th:only-of-type {\n",
       "        vertical-align: middle;\n",
       "    }\n",
       "\n",
       "    .dataframe tbody tr th {\n",
       "        vertical-align: top;\n",
       "    }\n",
       "\n",
       "    .dataframe thead th {\n",
       "        text-align: right;\n",
       "    }\n",
       "</style>\n",
       "<table border=\"1\" class=\"dataframe\">\n",
       "  <thead>\n",
       "    <tr style=\"text-align: right;\">\n",
       "      <th></th>\n",
       "      <th>airline</th>\n",
       "      <th>date_of_journey</th>\n",
       "      <th>source</th>\n",
       "      <th>destination</th>\n",
       "      <th>dep_time</th>\n",
       "      <th>arrival_time</th>\n",
       "      <th>duration_minute</th>\n",
       "      <th>total_stops</th>\n",
       "      <th>additional_info</th>\n",
       "      <th>price</th>\n",
       "    </tr>\n",
       "  </thead>\n",
       "  <tbody>\n",
       "    <tr>\n",
       "      <th>464</th>\n",
       "      <td>Jet Airways</td>\n",
       "      <td>2019-03-27</td>\n",
       "      <td>Delhi</td>\n",
       "      <td>Cochin</td>\n",
       "      <td>13:00:00</td>\n",
       "      <td>04:25:00</td>\n",
       "      <td>925</td>\n",
       "      <td>1</td>\n",
       "      <td>in-flight meal not included</td>\n",
       "      <td>6960</td>\n",
       "    </tr>\n",
       "    <tr>\n",
       "      <th>1036</th>\n",
       "      <td>Jet Airways</td>\n",
       "      <td>2019-06-12</td>\n",
       "      <td>Delhi</td>\n",
       "      <td>Cochin</td>\n",
       "      <td>08:00:00</td>\n",
       "      <td>19:00:00</td>\n",
       "      <td>660</td>\n",
       "      <td>1</td>\n",
       "      <td>in-flight meal not included</td>\n",
       "      <td>10577</td>\n",
       "    </tr>\n",
       "    <tr>\n",
       "      <th>1087</th>\n",
       "      <td>Multiple Carriers</td>\n",
       "      <td>2019-03-06</td>\n",
       "      <td>Delhi</td>\n",
       "      <td>Cochin</td>\n",
       "      <td>09:45:00</td>\n",
       "      <td>21:20:00</td>\n",
       "      <td>695</td>\n",
       "      <td>2</td>\n",
       "      <td>no info</td>\n",
       "      <td>10444</td>\n",
       "    </tr>\n",
       "  </tbody>\n",
       "</table>\n",
       "</div>"
      ],
      "text/plain": [
       "                airline date_of_journey source destination  dep_time  \\\n",
       "464         Jet Airways      2019-03-27  Delhi      Cochin  13:00:00   \n",
       "1036        Jet Airways      2019-06-12  Delhi      Cochin  08:00:00   \n",
       "1087  Multiple Carriers      2019-03-06  Delhi      Cochin  09:45:00   \n",
       "\n",
       "     arrival_time  duration_minute  total_stops              additional_info  \\\n",
       "464      04:25:00              925            1  in-flight meal not included   \n",
       "1036     19:00:00              660            1  in-flight meal not included   \n",
       "1087     21:20:00              695            2                      no info   \n",
       "\n",
       "      price  \n",
       "464    6960  \n",
       "1036  10577  \n",
       "1087  10444  "
      ]
     },
     "execution_count": 54,
     "metadata": {},
     "output_type": "execute_result"
    }
   ],
   "source": [
    "get_dataset('test').sample(3)"
   ]
  },
  {
   "cell_type": "code",
   "execution_count": 55,
   "id": "9729bf27-e0b7-4706-8082-8888e1357557",
   "metadata": {},
   "outputs": [],
   "source": [
    "# (\n",
    "#     df\n",
    "#     .drop(index=df[df.Duration.isin(['5m'])].index, columns=['Route'])\n",
    "#     .drop_duplicates()\n",
    "#     .rename(columns=str.lower)\n",
    "#     .assign(\n",
    "#         **{\n",
    "#             col: df[col].str.strip()\n",
    "#             for col in df.select_dtypes(include=\"O\").columns\n",
    "#         }\n",
    "#     )\n",
    "#     .assign(\n",
    "#         airline = lambda df_: (\n",
    "# \t\t\t\tdf_\n",
    "# \t\t\t\t.airline\n",
    "# \t\t\t\t.str.replace(\" Premium economy\", \"\")\n",
    "# \t\t\t\t.str.replace(\" Business\", \"\")\n",
    "# \t\t\t\t.str.title()\n",
    "# \t\t),\n",
    "#         date_of_journey = lambda df_: (\n",
    "#             pd.to_datetime(df_.date_of_journey, dayfirst=True)\n",
    "#         ),\n",
    "#         dep_time = lambda df_: (\n",
    "#                 pd.to_datetime(df_.dep_time).dt.time\n",
    "#         ),\n",
    "#         arrival_time = lambda df_: (\n",
    "#             pd.to_datetime(df_.arrival_time).dt.time\n",
    "#         ),\n",
    "#         duration = lambda df_: (\n",
    "#             df_.duration.pipe(lambda x: (\n",
    "#                 x\n",
    "#                 .str.split(\" \", expand=True)\n",
    "#         \t\t.set_axis([\"hour\", \"minute\"], axis=1)\n",
    "#         \t\t.assign(\n",
    "#                     hour=lambda df_: (\n",
    "#                         df_\n",
    "#         \t\t\t\t.hour\n",
    "#         \t\t\t\t.str.replace(\"h\", \"\")\n",
    "#         \t\t\t\t.astype(int)\n",
    "#         \t\t\t\t.mul(60)\n",
    "#             \t\t),\n",
    "#         \t\t\tminute=lambda df_: (\n",
    "#         \t\t\t\tdf_\n",
    "#         \t\t\t\t.minute\n",
    "#         \t\t\t\t.str.replace(\"m\", \"\")\n",
    "#         \t\t\t\t.fillna(\"0\")\n",
    "#         \t\t\t\t.astype(int)\n",
    "#         \t\t\t)\n",
    "#         \t\t).sum(axis=1)\n",
    "#             )\n",
    "#           )\n",
    "#         ),\n",
    "#         total_stops = lambda df_: (\n",
    "# \t\t\t\tdf_\n",
    "# \t\t\t\t.total_stops\n",
    "# \t\t\t\t.replace(\"non-stop\", \"0\")\n",
    "# \t\t\t\t.str.replace(\" stops?\", \"\", regex=True)\n",
    "# \t\t\t\t.pipe(lambda ser: pd.to_numeric(ser))\n",
    "# \t\t),\n",
    "#         additional_info = lambda df_ : (\n",
    "#             df_\n",
    "#             .additional_info\n",
    "#             .str\n",
    "#             .lower()\n",
    "#         )\n",
    "#     )\n",
    "# ).sample(10)"
   ]
  }
 ],
 "metadata": {
  "kernelspec": {
   "display_name": "Python 3 (ipykernel)",
   "language": "python",
   "name": "python3"
  },
  "language_info": {
   "codemirror_mode": {
    "name": "ipython",
    "version": 3
   },
   "file_extension": ".py",
   "mimetype": "text/x-python",
   "name": "python",
   "nbconvert_exporter": "python",
   "pygments_lexer": "ipython3",
   "version": "3.10.5"
  }
 },
 "nbformat": 4,
 "nbformat_minor": 5
}
