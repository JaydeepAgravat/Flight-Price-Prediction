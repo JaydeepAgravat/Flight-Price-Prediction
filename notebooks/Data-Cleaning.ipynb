{
 "cells": [
  {
   "cell_type": "markdown",
   "id": "dfc1095d-7595-4d3a-8e7f-e6e7a7ddcd2d",
   "metadata": {},
   "source": [
    "[Data Cleaning](#Data-Cleaning)<br>\n",
    "&emsp;[1. Import Libraries](#1.-Import-Libraries)<br>\n",
    "&emsp;[2. Reading Dataset](#2.-Reading-Dataset)<br>\n",
    "&emsp;[3. Preliminary Analysis](#3.-Preliminary-Analysis)<br>\n",
    "&emsp;&emsp;[3.1 Check Data Types](#3.1-Check-Data-Types)<br>\n",
    "&emsp;&emsp;[3.2 Check for Duplicates](#3.2-Check-for-Duplicates)<br>\n",
    "&emsp;&emsp;[3.3 Check for Missing Values](#3.3-Check-for-Missing-Values)<br>\n",
    "&emsp;[4. Detailed Analysis](#4.-Detailed-Analysis)<br>\n",
    "&emsp;&emsp;[4.1 Airline](#4.1-Airline)<br>\n",
    "&emsp;&emsp;[4.2 Date of Journey](#4.2-Date-of-Journey)<br>\n",
    "&emsp;&emsp;[4.3 Source](#4.3-Source)<br>\n",
    "&emsp;&emsp;[4.4 Destination](#4.4-Destination)<br>\n",
    "&emsp;&emsp;[4.5 Route](#4.5-Route)<br>\n",
    "&emsp;&emsp;[4.6 Departure Time](#4.6-Departure-Time)<br>\n",
    "&emsp;&emsp;[4.7 Arrival Time](#4.7-Arrival-Time)<br>\n",
    "&emsp;&emsp;[4.8 Duration](#4.8-Duration)<br>\n",
    "&emsp;&emsp;[4.9 Total Stops](#4.9-Total-Stops)<br>\n",
    "&emsp;&emsp;[4.10 Additional Info](#4.10-Additional-Info)<br>\n",
    "&emsp;&emsp;[4.11 Price](#4.11-Price)<br>\n",
    "&emsp;[5. Cleaning Operation](#5.-Cleaning-Operation)<br>\n",
    "&emsp;[6. Split The Datset](#6.-Split-The-Datset)<br>\n",
    "&emsp;[7. Export The Datset Subset](#7.-Export-The-Datset-Subset)<br>"
   ]
  },
  {
   "cell_type": "markdown",
   "id": "984bbc5c-b32c-4e05-8e1b-4cdb0f986130",
   "metadata": {},
   "source": [
    "## 1. Import Libraries"
   ]
  },
  {
   "cell_type": "code",
   "execution_count": 1,
   "id": "249b0c21-4876-448f-b54c-cde94b66c9f5",
   "metadata": {},
   "outputs": [],
   "source": [
    "import os\n",
    "import numpy as np\n",
    "import pandas as pd\n",
    "from sklearn.model_selection import train_test_split"
   ]
  },
  {
   "cell_type": "markdown",
   "id": "e268fb2d-d467-4577-a635-2d60b9781cb3",
   "metadata": {},
   "source": [
    "## 2. Reading Dataset"
   ]
  },
  {
   "cell_type": "code",
   "execution_count": 2,
   "id": "26a9cad1-3391-4b90-bf82-c0d6d9d04aa8",
   "metadata": {},
   "outputs": [],
   "source": [
    "PROJECT_DIR = 'R:\\Jaydeep\\Flight-Price-Prediction'\n",
    "DATA_DIR = 'data'\n",
    "MAIN_DATASET_NAME = 'flight_price'"
   ]
  },
  {
   "cell_type": "code",
   "execution_count": 3,
   "id": "1014fd76-bf29-4408-97e6-a9da4b9a8d54",
   "metadata": {},
   "outputs": [],
   "source": [
    "def get_dataset(dataset_name):\n",
    "    file_name = f'{dataset_name}.csv'\n",
    "    file_path = os.path.join(PROJECT_DIR, DATA_DIR, file_name)\n",
    "    return pd.read_csv(file_path)"
   ]
  },
  {
   "cell_type": "code",
   "execution_count": 4,
   "id": "33609714-17ec-49b4-9a17-4e0c8a2f28a1",
   "metadata": {},
   "outputs": [],
   "source": [
    "df = get_dataset(MAIN_DATASET_NAME)"
   ]
  },
  {
   "cell_type": "code",
   "execution_count": 5,
   "id": "94dd5c76-ded8-4b7d-80aa-7c578f4e74d3",
   "metadata": {},
   "outputs": [
    {
     "data": {
      "text/plain": [
       "0        22:20:00\n",
       "1        05:50:00\n",
       "2        09:25:00\n",
       "3        18:05:00\n",
       "4        16:50:00\n",
       "           ...   \n",
       "10678    19:55:00\n",
       "10679    20:45:00\n",
       "10680    08:20:00\n",
       "10681    11:30:00\n",
       "10682    10:55:00\n",
       "Name: Dep_Time, Length: 10683, dtype: object"
      ]
     },
     "execution_count": 5,
     "metadata": {},
     "output_type": "execute_result"
    }
   ],
   "source": [
    "pd.to_datetime(df['Dep_Time'], format='%H:%M').dt.time"
   ]
  },
  {
   "cell_type": "code",
   "execution_count": 6,
   "id": "565b96a0-7037-45cb-b0d9-f7984253bf32",
   "metadata": {},
   "outputs": [
    {
     "data": {
      "text/plain": [
       "'2.2.2'"
      ]
     },
     "execution_count": 6,
     "metadata": {},
     "output_type": "execute_result"
    }
   ],
   "source": [
    "pd.__version__"
   ]
  },
  {
   "cell_type": "code",
   "execution_count": 7,
   "id": "65f13d37-b570-4da8-86da-cba8c805b4a1",
   "metadata": {},
   "outputs": [
    {
     "data": {
      "text/html": [
       "<div>\n",
       "<style scoped>\n",
       "    .dataframe tbody tr th:only-of-type {\n",
       "        vertical-align: middle;\n",
       "    }\n",
       "\n",
       "    .dataframe tbody tr th {\n",
       "        vertical-align: top;\n",
       "    }\n",
       "\n",
       "    .dataframe thead th {\n",
       "        text-align: right;\n",
       "    }\n",
       "</style>\n",
       "<table border=\"1\" class=\"dataframe\">\n",
       "  <thead>\n",
       "    <tr style=\"text-align: right;\">\n",
       "      <th></th>\n",
       "      <th>Airline</th>\n",
       "      <th>Date_of_Journey</th>\n",
       "      <th>Source</th>\n",
       "      <th>Destination</th>\n",
       "      <th>Route</th>\n",
       "      <th>Dep_Time</th>\n",
       "      <th>Arrival_Time</th>\n",
       "      <th>Duration</th>\n",
       "      <th>Total_Stops</th>\n",
       "      <th>Additional_Info</th>\n",
       "      <th>Price</th>\n",
       "    </tr>\n",
       "  </thead>\n",
       "  <tbody>\n",
       "    <tr>\n",
       "      <th>487</th>\n",
       "      <td>IndiGo</td>\n",
       "      <td>18/05/2019</td>\n",
       "      <td>Kolkata</td>\n",
       "      <td>Banglore</td>\n",
       "      <td>CCU → HYD → BLR</td>\n",
       "      <td>19:20</td>\n",
       "      <td>23:45</td>\n",
       "      <td>4h 25m</td>\n",
       "      <td>1 stop</td>\n",
       "      <td>No info</td>\n",
       "      <td>3717</td>\n",
       "    </tr>\n",
       "    <tr>\n",
       "      <th>7076</th>\n",
       "      <td>Multiple carriers</td>\n",
       "      <td>1/06/2019</td>\n",
       "      <td>Delhi</td>\n",
       "      <td>Cochin</td>\n",
       "      <td>DEL → BOM → COK</td>\n",
       "      <td>10:20</td>\n",
       "      <td>19:15</td>\n",
       "      <td>8h 55m</td>\n",
       "      <td>1 stop</td>\n",
       "      <td>No info</td>\n",
       "      <td>9526</td>\n",
       "    </tr>\n",
       "    <tr>\n",
       "      <th>5969</th>\n",
       "      <td>Jet Airways</td>\n",
       "      <td>12/05/2019</td>\n",
       "      <td>Kolkata</td>\n",
       "      <td>Banglore</td>\n",
       "      <td>CCU → BOM → BLR</td>\n",
       "      <td>06:30</td>\n",
       "      <td>19:50</td>\n",
       "      <td>13h 20m</td>\n",
       "      <td>1 stop</td>\n",
       "      <td>No info</td>\n",
       "      <td>13941</td>\n",
       "    </tr>\n",
       "    <tr>\n",
       "      <th>8633</th>\n",
       "      <td>Jet Airways</td>\n",
       "      <td>15/05/2019</td>\n",
       "      <td>Mumbai</td>\n",
       "      <td>Hyderabad</td>\n",
       "      <td>BOM → HYD</td>\n",
       "      <td>02:55</td>\n",
       "      <td>04:20</td>\n",
       "      <td>1h 25m</td>\n",
       "      <td>non-stop</td>\n",
       "      <td>In-flight meal not included</td>\n",
       "      <td>3210</td>\n",
       "    </tr>\n",
       "    <tr>\n",
       "      <th>497</th>\n",
       "      <td>Jet Airways</td>\n",
       "      <td>1/04/2019</td>\n",
       "      <td>Delhi</td>\n",
       "      <td>Cochin</td>\n",
       "      <td>DEL → BOM → COK</td>\n",
       "      <td>10:00</td>\n",
       "      <td>19:00</td>\n",
       "      <td>9h</td>\n",
       "      <td>1 stop</td>\n",
       "      <td>In-flight meal not included</td>\n",
       "      <td>5406</td>\n",
       "    </tr>\n",
       "  </tbody>\n",
       "</table>\n",
       "</div>"
      ],
      "text/plain": [
       "                Airline Date_of_Journey   Source Destination            Route  \\\n",
       "487              IndiGo      18/05/2019  Kolkata    Banglore  CCU → HYD → BLR   \n",
       "7076  Multiple carriers       1/06/2019    Delhi      Cochin  DEL → BOM → COK   \n",
       "5969        Jet Airways      12/05/2019  Kolkata    Banglore  CCU → BOM → BLR   \n",
       "8633        Jet Airways      15/05/2019   Mumbai   Hyderabad        BOM → HYD   \n",
       "497         Jet Airways       1/04/2019    Delhi      Cochin  DEL → BOM → COK   \n",
       "\n",
       "     Dep_Time Arrival_Time Duration Total_Stops              Additional_Info  \\\n",
       "487     19:20        23:45   4h 25m      1 stop                      No info   \n",
       "7076    10:20        19:15   8h 55m      1 stop                      No info   \n",
       "5969    06:30        19:50  13h 20m      1 stop                      No info   \n",
       "8633    02:55        04:20   1h 25m    non-stop  In-flight meal not included   \n",
       "497     10:00        19:00       9h      1 stop  In-flight meal not included   \n",
       "\n",
       "      Price  \n",
       "487    3717  \n",
       "7076   9526  \n",
       "5969  13941  \n",
       "8633   3210  \n",
       "497    5406  "
      ]
     },
     "execution_count": 7,
     "metadata": {},
     "output_type": "execute_result"
    }
   ],
   "source": [
    "df.sample(5)"
   ]
  },
  {
   "cell_type": "markdown",
   "id": "0baeefa4-f3dd-47e7-86df-68615cef647e",
   "metadata": {},
   "source": [
    "## 3. Preliminary Analysis"
   ]
  },
  {
   "cell_type": "markdown",
   "id": "0770e86e-eca9-44fb-9d1c-bb606bbe1c5e",
   "metadata": {},
   "source": [
    "### 3.1 Check Data Types"
   ]
  },
  {
   "cell_type": "code",
   "execution_count": 8,
   "id": "8250afb5-a1e0-421d-b0d3-13b581d5e0f3",
   "metadata": {},
   "outputs": [
    {
     "name": "stdout",
     "output_type": "stream",
     "text": [
      "<class 'pandas.core.frame.DataFrame'>\n",
      "RangeIndex: 10683 entries, 0 to 10682\n",
      "Data columns (total 11 columns):\n",
      " #   Column           Non-Null Count  Dtype \n",
      "---  ------           --------------  ----- \n",
      " 0   Airline          10683 non-null  object\n",
      " 1   Date_of_Journey  10683 non-null  object\n",
      " 2   Source           10683 non-null  object\n",
      " 3   Destination      10683 non-null  object\n",
      " 4   Route            10682 non-null  object\n",
      " 5   Dep_Time         10683 non-null  object\n",
      " 6   Arrival_Time     10683 non-null  object\n",
      " 7   Duration         10683 non-null  object\n",
      " 8   Total_Stops      10682 non-null  object\n",
      " 9   Additional_Info  10683 non-null  object\n",
      " 10  Price            10683 non-null  int64 \n",
      "dtypes: int64(1), object(10)\n",
      "memory usage: 918.2+ KB\n"
     ]
    }
   ],
   "source": [
    "df.info()"
   ]
  },
  {
   "cell_type": "markdown",
   "id": "ded4f87c-f025-4b6d-93c8-e80043c1245c",
   "metadata": {},
   "source": [
    "### 3.2 Check for Duplicates"
   ]
  },
  {
   "cell_type": "code",
   "execution_count": 9,
   "id": "a25b7d2a-5771-4f45-bea5-bd714a5d82a3",
   "metadata": {},
   "outputs": [
    {
     "data": {
      "text/plain": [
       "220"
      ]
     },
     "execution_count": 9,
     "metadata": {},
     "output_type": "execute_result"
    }
   ],
   "source": [
    "df.duplicated().sum()"
   ]
  },
  {
   "cell_type": "markdown",
   "id": "9d7daf68-3da0-44de-967e-839d8e1cbe6d",
   "metadata": {},
   "source": [
    "### 3.3 Check for Missing Values"
   ]
  },
  {
   "cell_type": "code",
   "execution_count": 10,
   "id": "98eec765-bebf-42d6-8e37-dea038ddd86c",
   "metadata": {},
   "outputs": [
    {
     "data": {
      "text/plain": [
       "2"
      ]
     },
     "execution_count": 10,
     "metadata": {},
     "output_type": "execute_result"
    }
   ],
   "source": [
    "df.isnull().sum().sum()"
   ]
  },
  {
   "cell_type": "code",
   "execution_count": 11,
   "id": "b9ba36ab-a2db-417d-a021-c365d47ba8bc",
   "metadata": {},
   "outputs": [
    {
     "data": {
      "text/plain": [
       "Route          1\n",
       "Total_Stops    1\n",
       "dtype: int64"
      ]
     },
     "execution_count": 11,
     "metadata": {},
     "output_type": "execute_result"
    }
   ],
   "source": [
    "df.isnull().sum()[lambda x: x>0]"
   ]
  },
  {
   "cell_type": "code",
   "execution_count": 12,
   "id": "e94b15ad-22df-4bda-a142-ebb1d4e06ba7",
   "metadata": {},
   "outputs": [
    {
     "data": {
      "text/html": [
       "<div>\n",
       "<style scoped>\n",
       "    .dataframe tbody tr th:only-of-type {\n",
       "        vertical-align: middle;\n",
       "    }\n",
       "\n",
       "    .dataframe tbody tr th {\n",
       "        vertical-align: top;\n",
       "    }\n",
       "\n",
       "    .dataframe thead th {\n",
       "        text-align: right;\n",
       "    }\n",
       "</style>\n",
       "<table border=\"1\" class=\"dataframe\">\n",
       "  <thead>\n",
       "    <tr style=\"text-align: right;\">\n",
       "      <th></th>\n",
       "      <th>Airline</th>\n",
       "      <th>Date_of_Journey</th>\n",
       "      <th>Source</th>\n",
       "      <th>Destination</th>\n",
       "      <th>Route</th>\n",
       "      <th>Dep_Time</th>\n",
       "      <th>Arrival_Time</th>\n",
       "      <th>Duration</th>\n",
       "      <th>Total_Stops</th>\n",
       "      <th>Additional_Info</th>\n",
       "      <th>Price</th>\n",
       "    </tr>\n",
       "  </thead>\n",
       "  <tbody>\n",
       "    <tr>\n",
       "      <th>9039</th>\n",
       "      <td>Air India</td>\n",
       "      <td>6/05/2019</td>\n",
       "      <td>Delhi</td>\n",
       "      <td>Cochin</td>\n",
       "      <td>NaN</td>\n",
       "      <td>09:45</td>\n",
       "      <td>09:25 07 May</td>\n",
       "      <td>23h 40m</td>\n",
       "      <td>NaN</td>\n",
       "      <td>No info</td>\n",
       "      <td>7480</td>\n",
       "    </tr>\n",
       "  </tbody>\n",
       "</table>\n",
       "</div>"
      ],
      "text/plain": [
       "        Airline Date_of_Journey Source Destination Route Dep_Time  \\\n",
       "9039  Air India       6/05/2019  Delhi      Cochin   NaN    09:45   \n",
       "\n",
       "      Arrival_Time Duration Total_Stops Additional_Info  Price  \n",
       "9039  09:25 07 May  23h 40m         NaN         No info   7480  "
      ]
     },
     "execution_count": 12,
     "metadata": {},
     "output_type": "execute_result"
    }
   ],
   "source": [
    "df.loc[df['Route'].isnull()]"
   ]
  },
  {
   "cell_type": "code",
   "execution_count": 13,
   "id": "1574e94f-3122-4100-bcf4-a047c7e448ee",
   "metadata": {},
   "outputs": [
    {
     "data": {
      "text/html": [
       "<div>\n",
       "<style scoped>\n",
       "    .dataframe tbody tr th:only-of-type {\n",
       "        vertical-align: middle;\n",
       "    }\n",
       "\n",
       "    .dataframe tbody tr th {\n",
       "        vertical-align: top;\n",
       "    }\n",
       "\n",
       "    .dataframe thead th {\n",
       "        text-align: right;\n",
       "    }\n",
       "</style>\n",
       "<table border=\"1\" class=\"dataframe\">\n",
       "  <thead>\n",
       "    <tr style=\"text-align: right;\">\n",
       "      <th></th>\n",
       "      <th>Airline</th>\n",
       "      <th>Date_of_Journey</th>\n",
       "      <th>Source</th>\n",
       "      <th>Destination</th>\n",
       "      <th>Route</th>\n",
       "      <th>Dep_Time</th>\n",
       "      <th>Arrival_Time</th>\n",
       "      <th>Duration</th>\n",
       "      <th>Total_Stops</th>\n",
       "      <th>Additional_Info</th>\n",
       "      <th>Price</th>\n",
       "    </tr>\n",
       "  </thead>\n",
       "  <tbody>\n",
       "    <tr>\n",
       "      <th>9039</th>\n",
       "      <td>Air India</td>\n",
       "      <td>6/05/2019</td>\n",
       "      <td>Delhi</td>\n",
       "      <td>Cochin</td>\n",
       "      <td>NaN</td>\n",
       "      <td>09:45</td>\n",
       "      <td>09:25 07 May</td>\n",
       "      <td>23h 40m</td>\n",
       "      <td>NaN</td>\n",
       "      <td>No info</td>\n",
       "      <td>7480</td>\n",
       "    </tr>\n",
       "  </tbody>\n",
       "</table>\n",
       "</div>"
      ],
      "text/plain": [
       "        Airline Date_of_Journey Source Destination Route Dep_Time  \\\n",
       "9039  Air India       6/05/2019  Delhi      Cochin   NaN    09:45   \n",
       "\n",
       "      Arrival_Time Duration Total_Stops Additional_Info  Price  \n",
       "9039  09:25 07 May  23h 40m         NaN         No info   7480  "
      ]
     },
     "execution_count": 13,
     "metadata": {},
     "output_type": "execute_result"
    }
   ],
   "source": [
    "df.loc[df['Total_Stops'].isnull()]"
   ]
  },
  {
   "cell_type": "markdown",
   "id": "1a5d00e1-9220-43ec-bf78-950feafc91de",
   "metadata": {},
   "source": [
    "- There are 10683 rows & 11 columns.\n",
    "- Need to convert `Date_of_Journey` `Dep_Time` & `Arrival_Time` to datetime.\n",
    "- Need to convert `Duration` & `Total_Stops` to numeric.\n",
    "- There are 220 duplicates, it should be removed.\n",
    "- There are 2 null values.\n",
    "    - `Route`:1\n",
    "    - `Total_Stops`:1"
   ]
  },
  {
   "cell_type": "markdown",
   "id": "f23c62f8-8aa3-41a4-b432-ac0f009be018",
   "metadata": {},
   "source": [
    "## 4. Detailed Analysis"
   ]
  },
  {
   "cell_type": "code",
   "execution_count": 14,
   "id": "009305c8-7394-40b9-95ed-50cd9c85dfd0",
   "metadata": {},
   "outputs": [
    {
     "data": {
      "text/plain": [
       "Index(['Airline', 'Date_of_Journey', 'Source', 'Destination', 'Route',\n",
       "       'Dep_Time', 'Arrival_Time', 'Duration', 'Total_Stops',\n",
       "       'Additional_Info', 'Price'],\n",
       "      dtype='object')"
      ]
     },
     "execution_count": 14,
     "metadata": {},
     "output_type": "execute_result"
    }
   ],
   "source": [
    "df.columns"
   ]
  },
  {
   "cell_type": "markdown",
   "id": "7206c44b-9844-4b1e-8034-d558c8dac799",
   "metadata": {},
   "source": [
    "### 4.1 Airline"
   ]
  },
  {
   "cell_type": "code",
   "execution_count": 15,
   "id": "b5c9636e-3d08-464a-82ef-0de3551de315",
   "metadata": {},
   "outputs": [
    {
     "data": {
      "text/plain": [
       "12"
      ]
     },
     "execution_count": 15,
     "metadata": {},
     "output_type": "execute_result"
    }
   ],
   "source": [
    "df.Airline.nunique()"
   ]
  },
  {
   "cell_type": "code",
   "execution_count": 16,
   "id": "93d611a5-3a91-4fc6-85fd-31fc6afe37f6",
   "metadata": {},
   "outputs": [
    {
     "data": {
      "text/plain": [
       "array(['IndiGo', 'Air India', 'Jet Airways', 'SpiceJet',\n",
       "       'Multiple carriers', 'GoAir', 'Vistara', 'Air Asia',\n",
       "       'Vistara Premium economy', 'Jet Airways Business',\n",
       "       'Multiple carriers Premium economy', 'Trujet'], dtype=object)"
      ]
     },
     "execution_count": 16,
     "metadata": {},
     "output_type": "execute_result"
    }
   ],
   "source": [
    "df.Airline.unique()"
   ]
  },
  {
   "cell_type": "code",
   "execution_count": 17,
   "id": "e9266c49-8b62-4a37-8c9f-5c1d16b8a067",
   "metadata": {},
   "outputs": [
    {
     "data": {
      "text/plain": [
       "9606         Indigo\n",
       "4768       Spicejet\n",
       "2582    Jet Airways\n",
       "3055      Air India\n",
       "2426       Spicejet\n",
       "Name: Airline, dtype: object"
      ]
     },
     "execution_count": 17,
     "metadata": {},
     "output_type": "execute_result"
    }
   ],
   "source": [
    "(\n",
    "\tdf\n",
    "\t.Airline\n",
    "\t.str.replace(\" Premium economy\", \"\")\n",
    "\t.str.replace(\" Business\", \"\")\n",
    "\t.str.title()\n",
    ").sample(5)"
   ]
  },
  {
   "cell_type": "markdown",
   "id": "0284565b-2bd3-461a-a6fb-8346fecb673a",
   "metadata": {},
   "source": [
    "### 4.2 Date of Journey"
   ]
  },
  {
   "cell_type": "code",
   "execution_count": 18,
   "id": "6b681fea-29d7-4aca-bb44-69246be1c7be",
   "metadata": {},
   "outputs": [
    {
     "data": {
      "text/plain": [
       "44"
      ]
     },
     "execution_count": 18,
     "metadata": {},
     "output_type": "execute_result"
    }
   ],
   "source": [
    "df.Date_of_Journey.nunique()"
   ]
  },
  {
   "cell_type": "code",
   "execution_count": 19,
   "id": "7ce22418-6cda-4d70-a2e7-07534fec0664",
   "metadata": {},
   "outputs": [
    {
     "data": {
      "text/plain": [
       "array(['24/03/2019', '1/05/2019', '9/06/2019', '12/05/2019', '01/03/2019',\n",
       "       '24/06/2019', '12/03/2019', '27/05/2019', '1/06/2019',\n",
       "       '18/04/2019', '9/05/2019', '24/04/2019', '3/03/2019', '15/04/2019',\n",
       "       '12/06/2019', '6/03/2019', '21/03/2019', '3/04/2019', '6/05/2019',\n",
       "       '15/05/2019', '18/06/2019', '15/06/2019', '6/04/2019',\n",
       "       '18/05/2019', '27/06/2019', '21/05/2019', '06/03/2019',\n",
       "       '3/06/2019', '15/03/2019', '3/05/2019', '9/03/2019', '6/06/2019',\n",
       "       '24/05/2019', '09/03/2019', '1/04/2019', '21/04/2019',\n",
       "       '21/06/2019', '27/03/2019', '18/03/2019', '12/04/2019',\n",
       "       '9/04/2019', '1/03/2019', '03/03/2019', '27/04/2019'], dtype=object)"
      ]
     },
     "execution_count": 19,
     "metadata": {},
     "output_type": "execute_result"
    }
   ],
   "source": [
    "df.Date_of_Journey.unique()"
   ]
  },
  {
   "cell_type": "code",
   "execution_count": 20,
   "id": "d10d3540-bc2b-44cd-8a03-ce37524ad4f8",
   "metadata": {},
   "outputs": [
    {
     "data": {
      "text/plain": [
       "1717   2019-03-01\n",
       "7201   2019-06-03\n",
       "444    2019-06-09\n",
       "3784   2019-06-06\n",
       "7316   2019-03-24\n",
       "Name: Date_of_Journey, dtype: datetime64[ns]"
      ]
     },
     "execution_count": 20,
     "metadata": {},
     "output_type": "execute_result"
    }
   ],
   "source": [
    "pd.to_datetime(df.Date_of_Journey, dayfirst=True).sample(5)"
   ]
  },
  {
   "cell_type": "markdown",
   "id": "298dddb2-8b59-42f9-84ee-2a81a2396926",
   "metadata": {},
   "source": [
    "### 4.3 Source"
   ]
  },
  {
   "cell_type": "code",
   "execution_count": 21,
   "id": "dfb977fe-32b4-4129-af28-da5cb29634ed",
   "metadata": {},
   "outputs": [
    {
     "data": {
      "text/plain": [
       "5"
      ]
     },
     "execution_count": 21,
     "metadata": {},
     "output_type": "execute_result"
    }
   ],
   "source": [
    "df.Source.nunique()"
   ]
  },
  {
   "cell_type": "code",
   "execution_count": 22,
   "id": "5b2a157f-6215-4020-9bba-bc4c15a0392b",
   "metadata": {},
   "outputs": [
    {
     "data": {
      "text/plain": [
       "array(['Banglore', 'Kolkata', 'Delhi', 'Chennai', 'Mumbai'], dtype=object)"
      ]
     },
     "execution_count": 22,
     "metadata": {},
     "output_type": "execute_result"
    }
   ],
   "source": [
    "df.Source.unique()"
   ]
  },
  {
   "cell_type": "markdown",
   "id": "673973c0-8a47-4bbf-9163-0ca63a4e1e07",
   "metadata": {},
   "source": [
    "### 4.4 Destination"
   ]
  },
  {
   "cell_type": "code",
   "execution_count": 23,
   "id": "667a2fb5-805b-4d26-95b7-6136d5a91bdc",
   "metadata": {},
   "outputs": [
    {
     "data": {
      "text/plain": [
       "6"
      ]
     },
     "execution_count": 23,
     "metadata": {},
     "output_type": "execute_result"
    }
   ],
   "source": [
    "df.Destination.nunique()"
   ]
  },
  {
   "cell_type": "code",
   "execution_count": 24,
   "id": "a89c211a-4fb5-48f8-897e-8cd3d119fd84",
   "metadata": {},
   "outputs": [
    {
     "data": {
      "text/plain": [
       "array(['New Delhi', 'Banglore', 'Cochin', 'Kolkata', 'Delhi', 'Hyderabad'],\n",
       "      dtype=object)"
      ]
     },
     "execution_count": 24,
     "metadata": {},
     "output_type": "execute_result"
    }
   ],
   "source": [
    "df.Destination.unique()"
   ]
  },
  {
   "cell_type": "markdown",
   "id": "328ad8a4-a808-4b5d-a884-4377fec3e696",
   "metadata": {},
   "source": [
    "### 4.5 Route"
   ]
  },
  {
   "cell_type": "code",
   "execution_count": 25,
   "id": "5ef3a35e-9df7-41f0-a6c0-8375a9eeac44",
   "metadata": {},
   "outputs": [
    {
     "data": {
      "text/plain": [
       "4934    CCU → BOM → BLR\n",
       "9536          BLR → DEL\n",
       "169           BLR → DEL\n",
       "8779    DEL → BOM → COK\n",
       "603     BLR → BOM → DEL\n",
       "Name: Route, dtype: object"
      ]
     },
     "execution_count": 25,
     "metadata": {},
     "output_type": "execute_result"
    }
   ],
   "source": [
    "df.Route.sample(5)"
   ]
  },
  {
   "cell_type": "markdown",
   "id": "790eb1eb-7961-4e3d-bed1-3e75aa885460",
   "metadata": {},
   "source": [
    "### 4.6 Departure Time"
   ]
  },
  {
   "cell_type": "code",
   "execution_count": 26,
   "id": "7f3a4b18-f005-40c7-9e7f-aa3b042a0fc3",
   "metadata": {},
   "outputs": [
    {
     "data": {
      "text/plain": [
       "222"
      ]
     },
     "execution_count": 26,
     "metadata": {},
     "output_type": "execute_result"
    }
   ],
   "source": [
    "df.Dep_Time.nunique()"
   ]
  },
  {
   "cell_type": "code",
   "execution_count": 27,
   "id": "dbed25d4-ff31-4a9f-b859-406f9fad028a",
   "metadata": {},
   "outputs": [
    {
     "data": {
      "text/plain": [
       "4387     17:30\n",
       "10139    18:55\n",
       "4684     02:15\n",
       "9106     06:45\n",
       "3487     12:20\n",
       "Name: Dep_Time, dtype: object"
      ]
     },
     "execution_count": 27,
     "metadata": {},
     "output_type": "execute_result"
    }
   ],
   "source": [
    "df.Dep_Time.sample(5)"
   ]
  },
  {
   "cell_type": "code",
   "execution_count": 28,
   "id": "f3a99d58-37c3-43e5-b522-101f8fb9c481",
   "metadata": {},
   "outputs": [
    {
     "data": {
      "text/plain": [
       "Series([], Name: Dep_Time, dtype: object)"
      ]
     },
     "execution_count": 28,
     "metadata": {},
     "output_type": "execute_result"
    }
   ],
   "source": [
    "(\n",
    "    df\n",
    "    .Dep_Time\n",
    "    .loc[lambda x: x.str.contains('[^0-9:]')]\n",
    ")"
   ]
  },
  {
   "cell_type": "code",
   "execution_count": 29,
   "id": "faf17d78-5c6e-440f-b982-86884358e4f4",
   "metadata": {},
   "outputs": [
    {
     "name": "stderr",
     "output_type": "stream",
     "text": [
      "C:\\Users\\rohan\\AppData\\Local\\Temp\\ipykernel_17100\\2859816643.py:1: UserWarning: Could not infer format, so each element will be parsed individually, falling back to `dateutil`. To ensure parsing is consistent and as-expected, please specify a format.\n",
      "  pd.to_datetime(df.Dep_Time).dt.time.sample(5)\n"
     ]
    },
    {
     "data": {
      "text/plain": [
       "4827    14:05:00\n",
       "6630    20:45:00\n",
       "8216    22:00:00\n",
       "2755    19:45:00\n",
       "6026    07:10:00\n",
       "Name: Dep_Time, dtype: object"
      ]
     },
     "execution_count": 29,
     "metadata": {},
     "output_type": "execute_result"
    }
   ],
   "source": [
    "pd.to_datetime(df.Dep_Time).dt.time.sample(5)"
   ]
  },
  {
   "cell_type": "markdown",
   "id": "17275368-5323-4904-9ad7-ac4b5da13517",
   "metadata": {},
   "source": [
    "### 4.7 Arrival Time"
   ]
  },
  {
   "cell_type": "code",
   "execution_count": 30,
   "id": "c23f84ea-6f2f-4d60-b49f-967f83dabb94",
   "metadata": {},
   "outputs": [
    {
     "data": {
      "text/plain": [
       "1473    10:15\n",
       "9306    06:50\n",
       "4051    07:25\n",
       "5444    08:45\n",
       "1798    17:15\n",
       "Name: Arrival_Time, dtype: object"
      ]
     },
     "execution_count": 30,
     "metadata": {},
     "output_type": "execute_result"
    }
   ],
   "source": [
    "df.Arrival_Time.sample(5)"
   ]
  },
  {
   "cell_type": "code",
   "execution_count": 31,
   "id": "e0ae2da1-7f08-49d6-9eaa-d00c03245df7",
   "metadata": {},
   "outputs": [
    {
     "data": {
      "text/plain": [
       "array(['22 Mar', '10 Jun', '13 Mar', '02 Mar', '10 May', '04 Mar',\n",
       "       '13 Jun', '28 May', '19 Mar', '07 May', '02 Jun', '16 Jun',\n",
       "       '19 May', '16 May', '28 Jun', '02 May', '28 Mar', '19 Jun',\n",
       "       '04 Apr', '25 Mar', '07 Mar', '25 Jun', '07 Jun', '25 May',\n",
       "       '13 May', '16 Mar', '22 May', '10 Apr', '04 Jun', '20 May',\n",
       "       '28 Apr', '25 Apr', '10 Mar', '19 Apr', '13 Apr', '02 Apr',\n",
       "       '23 Mar', '22 Apr', '11 May', '07 Apr', '03 May', '08 Mar',\n",
       "       '03 Mar', '05 Mar', '22 Jun', '04 May', '26 May', '16 Apr',\n",
       "       '26 Jun', '29 May', '29 Jun', '29 Mar', '23 May', '17 Jun'],\n",
       "      dtype=object)"
      ]
     },
     "execution_count": 31,
     "metadata": {},
     "output_type": "execute_result"
    }
   ],
   "source": [
    "(\n",
    "    df\n",
    "    .Arrival_Time\n",
    "    .loc[lambda x: x.str.contains('[^0-9:]')]\n",
    "    .str.split(n=1)\n",
    "    .str.get(1)\n",
    "    .unique()\n",
    ")"
   ]
  },
  {
   "cell_type": "markdown",
   "id": "c9dabbf4-54c0-4e90-ba60-5bd2c577e338",
   "metadata": {},
   "source": [
    "### 4.8 Duration"
   ]
  },
  {
   "cell_type": "code",
   "execution_count": 32,
   "id": "138dab8f-206d-4ca4-99ea-573884d40e7e",
   "metadata": {},
   "outputs": [
    {
     "data": {
      "text/plain": [
       "4814     2h 15m\n",
       "1162     7h 15m\n",
       "9315         6h\n",
       "8211    21h 25m\n",
       "862     14h 20m\n",
       "Name: Duration, dtype: object"
      ]
     },
     "execution_count": 32,
     "metadata": {},
     "output_type": "execute_result"
    }
   ],
   "source": [
    "df.Duration.sample(5)"
   ]
  },
  {
   "cell_type": "code",
   "execution_count": 33,
   "id": "af13d950-cfd2-4a80-8b31-f38882994bec",
   "metadata": {},
   "outputs": [
    {
     "data": {
      "text/plain": [
       "array(['19h', '23h', '22h', '12h', '3h', '5h', '10h', '18h', '24h', '15h',\n",
       "       '16h', '8h', '14h', '20h', '13h', '11h', '9h', '27h', '26h', '4h',\n",
       "       '7h', '30h', '21h', '28h', '47h', '6h', '25h', '38h', '34h'],\n",
       "      dtype=object)"
      ]
     },
     "execution_count": 33,
     "metadata": {},
     "output_type": "execute_result"
    }
   ],
   "source": [
    "(\n",
    "    df\n",
    "    .Duration\n",
    "    .loc[lambda x: ~x.str.contains('m')]\n",
    "    .unique()\n",
    ")"
   ]
  },
  {
   "cell_type": "code",
   "execution_count": 34,
   "id": "a21c4ffc-b370-43f3-97c4-b9b0f95f16ec",
   "metadata": {},
   "outputs": [
    {
     "data": {
      "text/plain": [
       "array(['5m'], dtype=object)"
      ]
     },
     "execution_count": 34,
     "metadata": {},
     "output_type": "execute_result"
    }
   ],
   "source": [
    "(\n",
    "    df\n",
    "    .Duration\n",
    "    .loc[lambda x: ~x.str.contains('h')]\n",
    "    .unique()\n",
    ")"
   ]
  },
  {
   "cell_type": "code",
   "execution_count": 35,
   "id": "95c6c1bf-289f-403f-be35-748b540ea8c0",
   "metadata": {},
   "outputs": [
    {
     "data": {
      "text/plain": [
       "6474    5m\n",
       "Name: Duration, dtype: object"
      ]
     },
     "execution_count": 35,
     "metadata": {},
     "output_type": "execute_result"
    }
   ],
   "source": [
    "(\n",
    "    df\n",
    "    .Duration\n",
    "    .loc[lambda x: ~x.str.contains('h')]\n",
    ")"
   ]
  },
  {
   "cell_type": "code",
   "execution_count": 36,
   "id": "9df9bc27-af40-4f23-9f91-3566f2cb8df5",
   "metadata": {},
   "outputs": [
    {
     "data": {
      "text/html": [
       "<div>\n",
       "<style scoped>\n",
       "    .dataframe tbody tr th:only-of-type {\n",
       "        vertical-align: middle;\n",
       "    }\n",
       "\n",
       "    .dataframe tbody tr th {\n",
       "        vertical-align: top;\n",
       "    }\n",
       "\n",
       "    .dataframe thead th {\n",
       "        text-align: right;\n",
       "    }\n",
       "</style>\n",
       "<table border=\"1\" class=\"dataframe\">\n",
       "  <thead>\n",
       "    <tr style=\"text-align: right;\">\n",
       "      <th></th>\n",
       "      <th>Airline</th>\n",
       "      <th>Date_of_Journey</th>\n",
       "      <th>Source</th>\n",
       "      <th>Destination</th>\n",
       "      <th>Route</th>\n",
       "      <th>Dep_Time</th>\n",
       "      <th>Arrival_Time</th>\n",
       "      <th>Duration</th>\n",
       "      <th>Total_Stops</th>\n",
       "      <th>Additional_Info</th>\n",
       "      <th>Price</th>\n",
       "    </tr>\n",
       "  </thead>\n",
       "  <tbody>\n",
       "    <tr>\n",
       "      <th>6474</th>\n",
       "      <td>Air India</td>\n",
       "      <td>6/03/2019</td>\n",
       "      <td>Mumbai</td>\n",
       "      <td>Hyderabad</td>\n",
       "      <td>BOM → GOI → PNQ → HYD</td>\n",
       "      <td>16:50</td>\n",
       "      <td>16:55</td>\n",
       "      <td>5m</td>\n",
       "      <td>2 stops</td>\n",
       "      <td>No info</td>\n",
       "      <td>17327</td>\n",
       "    </tr>\n",
       "  </tbody>\n",
       "</table>\n",
       "</div>"
      ],
      "text/plain": [
       "        Airline Date_of_Journey  Source Destination                  Route  \\\n",
       "6474  Air India       6/03/2019  Mumbai   Hyderabad  BOM → GOI → PNQ → HYD   \n",
       "\n",
       "     Dep_Time Arrival_Time Duration Total_Stops Additional_Info  Price  \n",
       "6474    16:50        16:55       5m     2 stops         No info  17327  "
      ]
     },
     "execution_count": 36,
     "metadata": {},
     "output_type": "execute_result"
    }
   ],
   "source": [
    "df.iloc[[6474]]"
   ]
  },
  {
   "cell_type": "code",
   "execution_count": 37,
   "id": "afd9b9d8-0a7c-4c9e-8ecf-f69005989e69",
   "metadata": {},
   "outputs": [
    {
     "data": {
      "text/html": [
       "<div>\n",
       "<style scoped>\n",
       "    .dataframe tbody tr th:only-of-type {\n",
       "        vertical-align: middle;\n",
       "    }\n",
       "\n",
       "    .dataframe tbody tr th {\n",
       "        vertical-align: top;\n",
       "    }\n",
       "\n",
       "    .dataframe thead th {\n",
       "        text-align: right;\n",
       "    }\n",
       "</style>\n",
       "<table border=\"1\" class=\"dataframe\">\n",
       "  <thead>\n",
       "    <tr style=\"text-align: right;\">\n",
       "      <th></th>\n",
       "      <th>duration_minutes</th>\n",
       "      <th>Duration</th>\n",
       "    </tr>\n",
       "  </thead>\n",
       "  <tbody>\n",
       "    <tr>\n",
       "      <th>10566</th>\n",
       "      <td>1640</td>\n",
       "      <td>27h 20m</td>\n",
       "    </tr>\n",
       "    <tr>\n",
       "      <th>5006</th>\n",
       "      <td>165</td>\n",
       "      <td>2h 45m</td>\n",
       "    </tr>\n",
       "    <tr>\n",
       "      <th>10023</th>\n",
       "      <td>85</td>\n",
       "      <td>1h 25m</td>\n",
       "    </tr>\n",
       "    <tr>\n",
       "      <th>5743</th>\n",
       "      <td>755</td>\n",
       "      <td>12h 35m</td>\n",
       "    </tr>\n",
       "    <tr>\n",
       "      <th>2500</th>\n",
       "      <td>1035</td>\n",
       "      <td>17h 15m</td>\n",
       "    </tr>\n",
       "  </tbody>\n",
       "</table>\n",
       "</div>"
      ],
      "text/plain": [
       "       duration_minutes Duration\n",
       "10566              1640  27h 20m\n",
       "5006                165   2h 45m\n",
       "10023                85   1h 25m\n",
       "5743                755  12h 35m\n",
       "2500               1035  17h 15m"
      ]
     },
     "execution_count": 37,
     "metadata": {},
     "output_type": "execute_result"
    }
   ],
   "source": [
    "(\n",
    "    df\n",
    "    .Duration\n",
    "    .drop(index=6474)\n",
    "    .str.split(expand=True)\n",
    "    .set_axis(['hour', 'minute'], axis=1)\n",
    "    .assign(\n",
    "        hour = lambda df_: (\n",
    "            df_\n",
    "            .hour\n",
    "            .str.replace('h','')\n",
    "            .astype(int)\n",
    "            .mul(60)\n",
    "        ),\n",
    "        minute = lambda df_: (\n",
    "            df_\n",
    "            .minute\n",
    "            .str.replace('m','')\n",
    "            .fillna('0')\n",
    "            .astype(int)\n",
    "        )\n",
    "    )\n",
    "    .sum(axis=1)\n",
    "    .rename('duration_minutes')\n",
    "    .to_frame()\n",
    "    .join(df.Duration)\n",
    ").sample(5)"
   ]
  },
  {
   "cell_type": "markdown",
   "id": "03624c4c-3d74-4dce-baea-a8a8098c9c1b",
   "metadata": {},
   "source": [
    "### 4.9 Total Stops"
   ]
  },
  {
   "cell_type": "code",
   "execution_count": 38,
   "id": "ef9917c7-c4f5-48de-9056-d76929f87904",
   "metadata": {},
   "outputs": [
    {
     "data": {
      "text/plain": [
       "5"
      ]
     },
     "execution_count": 38,
     "metadata": {},
     "output_type": "execute_result"
    }
   ],
   "source": [
    "df.Total_Stops.nunique()"
   ]
  },
  {
   "cell_type": "code",
   "execution_count": 39,
   "id": "badfac55-8e02-4103-99cb-0d5f8cbe2171",
   "metadata": {},
   "outputs": [
    {
     "data": {
      "text/plain": [
       "array(['non-stop', '2 stops', '1 stop', '3 stops', nan, '4 stops'],\n",
       "      dtype=object)"
      ]
     },
     "execution_count": 39,
     "metadata": {},
     "output_type": "execute_result"
    }
   ],
   "source": [
    "df.Total_Stops.unique()"
   ]
  },
  {
   "cell_type": "code",
   "execution_count": 40,
   "id": "763627f5-fbff-4869-9404-ca6d1e7b3578",
   "metadata": {},
   "outputs": [
    {
     "data": {
      "text/plain": [
       "array([ 0.,  2.,  1.,  3., nan,  4.])"
      ]
     },
     "execution_count": 40,
     "metadata": {},
     "output_type": "execute_result"
    }
   ],
   "source": [
    "(\n",
    "    df\n",
    "    .Total_Stops\n",
    "    .str.replace('non-stop', '0')\n",
    "    .str.replace('stops?', '', regex=True)\n",
    "    .pipe(lambda x: pd.to_numeric(x))\n",
    ").unique()"
   ]
  },
  {
   "cell_type": "markdown",
   "id": "e077892b-edf3-427a-b34a-7065edf3eab8",
   "metadata": {},
   "source": [
    "### 4.10 Additional Info"
   ]
  },
  {
   "cell_type": "code",
   "execution_count": 41,
   "id": "2e4d83e3-4af1-47d4-a90f-60f0588c0143",
   "metadata": {},
   "outputs": [
    {
     "data": {
      "text/plain": [
       "10"
      ]
     },
     "execution_count": 41,
     "metadata": {},
     "output_type": "execute_result"
    }
   ],
   "source": [
    "df.Additional_Info.nunique()"
   ]
  },
  {
   "cell_type": "code",
   "execution_count": 42,
   "id": "04a52e43-2a94-4c96-8c66-98aa19bc508f",
   "metadata": {},
   "outputs": [
    {
     "data": {
      "text/plain": [
       "array(['No info', 'In-flight meal not included',\n",
       "       'No check-in baggage included', '1 Short layover', 'No Info',\n",
       "       '1 Long layover', 'Change airports', 'Business class',\n",
       "       'Red-eye flight', '2 Long layover'], dtype=object)"
      ]
     },
     "execution_count": 42,
     "metadata": {},
     "output_type": "execute_result"
    }
   ],
   "source": [
    "df.Additional_Info.unique()"
   ]
  },
  {
   "cell_type": "code",
   "execution_count": 43,
   "id": "c6ff3bd4-2849-47da-8c3f-b1badbcf12fb",
   "metadata": {},
   "outputs": [
    {
     "data": {
      "text/plain": [
       "array(['no info', 'in-flight meal not included',\n",
       "       'no check-in baggage included', '1 short layover',\n",
       "       '1 long layover', 'change airports', 'business class',\n",
       "       'red-eye flight', '2 long layover'], dtype=object)"
      ]
     },
     "execution_count": 43,
     "metadata": {},
     "output_type": "execute_result"
    }
   ],
   "source": [
    "(\n",
    "    df\n",
    "    .Additional_Info\n",
    "    .str.lower()\n",
    ").unique()"
   ]
  },
  {
   "cell_type": "markdown",
   "id": "4115aca1-b55f-437a-9424-9657bb8e7e9f",
   "metadata": {},
   "source": [
    "### 4.11 Price"
   ]
  },
  {
   "cell_type": "code",
   "execution_count": 44,
   "id": "486edf73-2702-4727-9fb0-d0f0658d3fd8",
   "metadata": {},
   "outputs": [
    {
     "data": {
      "text/plain": [
       "1813    16079\n",
       "7930     4441\n",
       "1894     6810\n",
       "7572     9103\n",
       "6070     7563\n",
       "Name: Price, dtype: int64"
      ]
     },
     "execution_count": 44,
     "metadata": {},
     "output_type": "execute_result"
    }
   ],
   "source": [
    "df.Price.sample(5)"
   ]
  },
  {
   "cell_type": "code",
   "execution_count": 45,
   "id": "f7afc496-6266-461f-b9f8-f485545eba91",
   "metadata": {},
   "outputs": [
    {
     "data": {
      "text/plain": [
       "1870"
      ]
     },
     "execution_count": 45,
     "metadata": {},
     "output_type": "execute_result"
    }
   ],
   "source": [
    "df.Price.nunique()"
   ]
  },
  {
   "cell_type": "markdown",
   "id": "b69fa6dd-551d-4bb5-83cf-4df4c90be153",
   "metadata": {},
   "source": [
    "## 5. Cleaning Operation"
   ]
  },
  {
   "cell_type": "code",
   "execution_count": 46,
   "id": "baaab47a-947f-4475-8c3f-e420f52903fe",
   "metadata": {},
   "outputs": [],
   "source": [
    "def clean_column_names(df):\n",
    "    # Convert all column names to lowercase for consistency\n",
    "    return df.rename(columns=str.lower)\n",
    "\n",
    "def strip_string_columns(df):\n",
    "    # Identify columns with string data type\n",
    "    string_columns = df.select_dtypes(include='O').columns\n",
    "    # Strip leading and trailing whitespace from all string columns\n",
    "    for col in string_columns:\n",
    "        df[col] = df[col].str.strip()\n",
    "    return df\n",
    "\n",
    "def clean_airline_names(df):\n",
    "    # Clean and standardize 'airline' column by removing specific substrings and title-casing\n",
    "    df['airline'] = (\n",
    "        df['airline']\n",
    "        .str.replace(\" Premium economy\", \"\")\n",
    "        .str.replace(\" Business\", \"\")\n",
    "        .str.title()\n",
    "    )\n",
    "    return df\n",
    "\n",
    "def convert_dates(df):\n",
    "    # Convert 'date_of_journey' column to datetime format, assuming day-first format\n",
    "    df['date_of_journey'] = pd.to_datetime(df['date_of_journey'], dayfirst=True)\n",
    "    return df\n",
    "\n",
    "def convert_times(df):\n",
    "    # Convert 'dep_time' and 'arrival_time' columns to time format\n",
    "    df['dep_time'] = pd.to_datetime(df['dep_time'], format='mixed').dt.time\n",
    "    df['arrival_time'] = pd.to_datetime(df['arrival_time'], format='mixed').dt.time\n",
    "    return df\n",
    "\n",
    "def convert_duration(df):\n",
    "    # Split 'duration' column into hours and minutes\n",
    "    duration_split = df['duration'].str.split(\" \", expand=True).set_axis([\"hour\", \"minute\"], axis=1)\n",
    "    # Convert hours to minutes and fill missing minutes with 0\n",
    "    duration_split['hour'] = duration_split['hour'].str.replace(\"h\", \"\").astype(int).mul(60)\n",
    "    duration_split['minute'] = duration_split['minute'].str.replace(\"m\", \"\").fillna(\"0\").astype(int)\n",
    "    # Sum hours and minutes to get total duration in minutes\n",
    "    df['duration_minute'] = duration_split.sum(axis=1)\n",
    "    # drop duration column\n",
    "    df = df.drop(columns=['duration'])\n",
    "    return df\n",
    "\n",
    "def convert_total_stops(df):\n",
    "    # Standardize and convert 'total_stops' column to numeric\n",
    "    df['total_stops'] = (\n",
    "        df['total_stops']\n",
    "        .replace(\"non-stop\", \"0\")  # Replace 'non-stop' with '0'\n",
    "        .str.replace(\" stops?\", \"\", regex=True)  # Remove ' stop' or ' stops'\n",
    "        .pipe(lambda ser: pd.to_numeric(ser))  # Convert to numeric\n",
    "    )\n",
    "    return df\n",
    "\n",
    "def lower_additional_info(df):\n",
    "    # Convert 'additional_info' column to lowercase\n",
    "    df['additional_info'] = df['additional_info'].str.lower()\n",
    "    return df\n",
    "\n",
    "def preprocess_df(df):\n",
    "    # Drop rows where 'Duration' is '5m' and drop the 'Route' column\n",
    "    df = df.drop(index=df[df['Duration'].isin(['5m'])].index, columns=['Route'])\n",
    "    # Drop duplicate rows to ensure data consistency\n",
    "    df = df.drop_duplicates()\n",
    "    # Drop null values\n",
    "    df = df.dropna()\n",
    "    # Apply all preprocessing steps in sequence to clean and standardize the DataFrame\n",
    "    df = clean_column_names(df)         # Convert column names to lowercase\n",
    "    df = strip_string_columns(df)       # Strip leading/trailing whitespace from string columns\n",
    "    df = clean_airline_names(df)        # Clean and standardize 'airline' column\n",
    "    df = convert_dates(df)              # Convert 'date_of_journey' column to datetime format\n",
    "    df = convert_times(df)              # Convert 'dep_time' and 'arrival_time' columns to time format\n",
    "    df = convert_duration(df)           # Convert 'duration' column to total minutes\n",
    "    df = convert_total_stops(df)        # Standardize and convert 'total_stops' column to numeric\n",
    "    df = lower_additional_info(df)      # Convert 'additional_info' column to lowercase\n",
    "    # Drop duplicate rows to ensure data consistency\n",
    "    df = df.drop_duplicates()\n",
    "    return df"
   ]
  },
  {
   "cell_type": "code",
   "execution_count": 47,
   "id": "5dd70e2d-adce-4cad-9479-5a14505100a2",
   "metadata": {},
   "outputs": [],
   "source": [
    "df = preprocess_df(df)"
   ]
  },
  {
   "cell_type": "code",
   "execution_count": 48,
   "id": "d390837a-77c3-4406-9204-295abd0ed7a8",
   "metadata": {},
   "outputs": [],
   "source": [
    "columns = [\n",
    "    'airline', 'date_of_journey', 'source', 'destination', 'dep_time',\n",
    "    'arrival_time',  'duration_minute', 'total_stops', 'additional_info',\n",
    "    'price',\n",
    "]"
   ]
  },
  {
   "cell_type": "code",
   "execution_count": 49,
   "id": "013e8454-4635-4acd-a397-f9cb1b168de9",
   "metadata": {},
   "outputs": [],
   "source": [
    "df = df[columns]"
   ]
  },
  {
   "cell_type": "code",
   "execution_count": 50,
   "id": "4065ff6a-a61b-41dd-9cd9-48fa2b0f5958",
   "metadata": {},
   "outputs": [
    {
     "data": {
      "text/html": [
       "<div>\n",
       "<style scoped>\n",
       "    .dataframe tbody tr th:only-of-type {\n",
       "        vertical-align: middle;\n",
       "    }\n",
       "\n",
       "    .dataframe tbody tr th {\n",
       "        vertical-align: top;\n",
       "    }\n",
       "\n",
       "    .dataframe thead th {\n",
       "        text-align: right;\n",
       "    }\n",
       "</style>\n",
       "<table border=\"1\" class=\"dataframe\">\n",
       "  <thead>\n",
       "    <tr style=\"text-align: right;\">\n",
       "      <th></th>\n",
       "      <th>airline</th>\n",
       "      <th>date_of_journey</th>\n",
       "      <th>source</th>\n",
       "      <th>destination</th>\n",
       "      <th>dep_time</th>\n",
       "      <th>arrival_time</th>\n",
       "      <th>duration_minute</th>\n",
       "      <th>total_stops</th>\n",
       "      <th>additional_info</th>\n",
       "      <th>price</th>\n",
       "    </tr>\n",
       "  </thead>\n",
       "  <tbody>\n",
       "    <tr>\n",
       "      <th>4791</th>\n",
       "      <td>Multiple Carriers</td>\n",
       "      <td>2019-03-21</td>\n",
       "      <td>Delhi</td>\n",
       "      <td>Cochin</td>\n",
       "      <td>10:20:00</td>\n",
       "      <td>19:15:00</td>\n",
       "      <td>535</td>\n",
       "      <td>1</td>\n",
       "      <td>no info</td>\n",
       "      <td>7531</td>\n",
       "    </tr>\n",
       "    <tr>\n",
       "      <th>1507</th>\n",
       "      <td>Jet Airways</td>\n",
       "      <td>2019-05-09</td>\n",
       "      <td>Delhi</td>\n",
       "      <td>Cochin</td>\n",
       "      <td>19:10:00</td>\n",
       "      <td>19:00:00</td>\n",
       "      <td>1430</td>\n",
       "      <td>2</td>\n",
       "      <td>no info</td>\n",
       "      <td>15129</td>\n",
       "    </tr>\n",
       "    <tr>\n",
       "      <th>4210</th>\n",
       "      <td>Indigo</td>\n",
       "      <td>2019-03-06</td>\n",
       "      <td>Mumbai</td>\n",
       "      <td>Hyderabad</td>\n",
       "      <td>02:30:00</td>\n",
       "      <td>04:00:00</td>\n",
       "      <td>90</td>\n",
       "      <td>0</td>\n",
       "      <td>no info</td>\n",
       "      <td>3175</td>\n",
       "    </tr>\n",
       "    <tr>\n",
       "      <th>1860</th>\n",
       "      <td>Jet Airways</td>\n",
       "      <td>2019-05-09</td>\n",
       "      <td>Kolkata</td>\n",
       "      <td>Banglore</td>\n",
       "      <td>16:30:00</td>\n",
       "      <td>08:15:00</td>\n",
       "      <td>945</td>\n",
       "      <td>1</td>\n",
       "      <td>no info</td>\n",
       "      <td>13941</td>\n",
       "    </tr>\n",
       "    <tr>\n",
       "      <th>393</th>\n",
       "      <td>Indigo</td>\n",
       "      <td>2019-03-03</td>\n",
       "      <td>Delhi</td>\n",
       "      <td>Cochin</td>\n",
       "      <td>17:30:00</td>\n",
       "      <td>01:35:00</td>\n",
       "      <td>485</td>\n",
       "      <td>1</td>\n",
       "      <td>no info</td>\n",
       "      <td>14871</td>\n",
       "    </tr>\n",
       "    <tr>\n",
       "      <th>8164</th>\n",
       "      <td>Indigo</td>\n",
       "      <td>2019-06-18</td>\n",
       "      <td>Chennai</td>\n",
       "      <td>Kolkata</td>\n",
       "      <td>07:55:00</td>\n",
       "      <td>10:15:00</td>\n",
       "      <td>140</td>\n",
       "      <td>0</td>\n",
       "      <td>no info</td>\n",
       "      <td>3850</td>\n",
       "    </tr>\n",
       "    <tr>\n",
       "      <th>4365</th>\n",
       "      <td>Indigo</td>\n",
       "      <td>2019-06-18</td>\n",
       "      <td>Banglore</td>\n",
       "      <td>Delhi</td>\n",
       "      <td>08:30:00</td>\n",
       "      <td>11:20:00</td>\n",
       "      <td>170</td>\n",
       "      <td>0</td>\n",
       "      <td>no info</td>\n",
       "      <td>4823</td>\n",
       "    </tr>\n",
       "    <tr>\n",
       "      <th>5525</th>\n",
       "      <td>Air India</td>\n",
       "      <td>2019-06-09</td>\n",
       "      <td>Kolkata</td>\n",
       "      <td>Banglore</td>\n",
       "      <td>09:50:00</td>\n",
       "      <td>12:30:00</td>\n",
       "      <td>1600</td>\n",
       "      <td>2</td>\n",
       "      <td>no info</td>\n",
       "      <td>14960</td>\n",
       "    </tr>\n",
       "    <tr>\n",
       "      <th>7051</th>\n",
       "      <td>Indigo</td>\n",
       "      <td>2019-06-27</td>\n",
       "      <td>Delhi</td>\n",
       "      <td>Cochin</td>\n",
       "      <td>06:50:00</td>\n",
       "      <td>16:10:00</td>\n",
       "      <td>560</td>\n",
       "      <td>1</td>\n",
       "      <td>no info</td>\n",
       "      <td>6442</td>\n",
       "    </tr>\n",
       "    <tr>\n",
       "      <th>8263</th>\n",
       "      <td>Jet Airways</td>\n",
       "      <td>2019-05-27</td>\n",
       "      <td>Banglore</td>\n",
       "      <td>Delhi</td>\n",
       "      <td>07:10:00</td>\n",
       "      <td>10:10:00</td>\n",
       "      <td>180</td>\n",
       "      <td>0</td>\n",
       "      <td>in-flight meal not included</td>\n",
       "      <td>4030</td>\n",
       "    </tr>\n",
       "  </tbody>\n",
       "</table>\n",
       "</div>"
      ],
      "text/plain": [
       "                airline date_of_journey    source destination  dep_time  \\\n",
       "4791  Multiple Carriers      2019-03-21     Delhi      Cochin  10:20:00   \n",
       "1507        Jet Airways      2019-05-09     Delhi      Cochin  19:10:00   \n",
       "4210             Indigo      2019-03-06    Mumbai   Hyderabad  02:30:00   \n",
       "1860        Jet Airways      2019-05-09   Kolkata    Banglore  16:30:00   \n",
       "393              Indigo      2019-03-03     Delhi      Cochin  17:30:00   \n",
       "8164             Indigo      2019-06-18   Chennai     Kolkata  07:55:00   \n",
       "4365             Indigo      2019-06-18  Banglore       Delhi  08:30:00   \n",
       "5525          Air India      2019-06-09   Kolkata    Banglore  09:50:00   \n",
       "7051             Indigo      2019-06-27     Delhi      Cochin  06:50:00   \n",
       "8263        Jet Airways      2019-05-27  Banglore       Delhi  07:10:00   \n",
       "\n",
       "     arrival_time  duration_minute  total_stops              additional_info  \\\n",
       "4791     19:15:00              535            1                      no info   \n",
       "1507     19:00:00             1430            2                      no info   \n",
       "4210     04:00:00               90            0                      no info   \n",
       "1860     08:15:00              945            1                      no info   \n",
       "393      01:35:00              485            1                      no info   \n",
       "8164     10:15:00              140            0                      no info   \n",
       "4365     11:20:00              170            0                      no info   \n",
       "5525     12:30:00             1600            2                      no info   \n",
       "7051     16:10:00              560            1                      no info   \n",
       "8263     10:10:00              180            0  in-flight meal not included   \n",
       "\n",
       "      price  \n",
       "4791   7531  \n",
       "1507  15129  \n",
       "4210   3175  \n",
       "1860  13941  \n",
       "393   14871  \n",
       "8164   3850  \n",
       "4365   4823  \n",
       "5525  14960  \n",
       "7051   6442  \n",
       "8263   4030  "
      ]
     },
     "execution_count": 50,
     "metadata": {},
     "output_type": "execute_result"
    }
   ],
   "source": [
    "df.sample(10)"
   ]
  },
  {
   "cell_type": "markdown",
   "id": "7fa36d80-c73e-402c-a856-833dd158da9e",
   "metadata": {},
   "source": [
    "## 6. Split The Datset"
   ]
  },
  {
   "cell_type": "code",
   "execution_count": 51,
   "id": "c7d57947-d876-4a0e-8e51-4f87b37a904e",
   "metadata": {},
   "outputs": [
    {
     "name": "stdout",
     "output_type": "stream",
     "text": [
      "<class 'pandas.core.frame.DataFrame'>\n",
      "Index: 10459 entries, 0 to 10682\n",
      "Data columns (total 10 columns):\n",
      " #   Column           Non-Null Count  Dtype         \n",
      "---  ------           --------------  -----         \n",
      " 0   airline          10459 non-null  object        \n",
      " 1   date_of_journey  10459 non-null  datetime64[ns]\n",
      " 2   source           10459 non-null  object        \n",
      " 3   destination      10459 non-null  object        \n",
      " 4   dep_time         10459 non-null  object        \n",
      " 5   arrival_time     10459 non-null  object        \n",
      " 6   duration_minute  10459 non-null  int64         \n",
      " 7   total_stops      10459 non-null  int64         \n",
      " 8   additional_info  10459 non-null  object        \n",
      " 9   price            10459 non-null  int64         \n",
      "dtypes: datetime64[ns](1), int64(3), object(6)\n",
      "memory usage: 898.8+ KB\n"
     ]
    }
   ],
   "source": [
    "df.info()"
   ]
  },
  {
   "cell_type": "code",
   "execution_count": 52,
   "id": "829e6990-6029-4ed1-ac58-b901c56adf00",
   "metadata": {},
   "outputs": [
    {
     "name": "stdout",
     "output_type": "stream",
     "text": [
      "(6693, 9) (6693,)\n",
      "(1674, 9) (1674,)\n",
      "(2092, 9) (2092,)\n"
     ]
    }
   ],
   "source": [
    "X = df.drop(columns=\"price\")\n",
    "y = df.price.copy()\n",
    "\n",
    "X_, X_test, y_, y_test = train_test_split(X, y, test_size=0.2, random_state=42)\n",
    "X_train, X_val, y_train, y_val = train_test_split(X_, y_, test_size=0.2, random_state=42)\n",
    "\n",
    "print(X_train.shape, y_train.shape)\n",
    "print(X_val.shape, y_val.shape)\n",
    "print(X_test.shape, y_test.shape)"
   ]
  },
  {
   "cell_type": "markdown",
   "id": "b0570352-b341-4a3f-a331-fb811b889323",
   "metadata": {},
   "source": [
    "## 7. Export The Datset Subset"
   ]
  },
  {
   "cell_type": "code",
   "execution_count": 53,
   "id": "0f983429-b144-4f37-bfba-f5496b033f6d",
   "metadata": {},
   "outputs": [],
   "source": [
    "def export_dataset(X, y, name):\n",
    "\tfile_name = f\"{name}.csv\"\n",
    "\tfile_path = os.path.join(PROJECT_DIR, DATA_DIR, file_name)\n",
    "\tX.join(y).to_csv(file_path, index=False)"
   ]
  },
  {
   "cell_type": "code",
   "execution_count": 54,
   "id": "4f191d2f-be83-49cd-9b07-e67c99779b73",
   "metadata": {},
   "outputs": [],
   "source": [
    "export_dataset(X_train, y_train, 'train')\n",
    "export_dataset(X_val, y_val, 'validation')\n",
    "export_dataset(X_test, y_test, 'test')"
   ]
  },
  {
   "cell_type": "code",
   "execution_count": 55,
   "id": "e2ade396-380a-4cee-b0b1-6d7dc2b45fb4",
   "metadata": {},
   "outputs": [
    {
     "data": {
      "text/html": [
       "<div>\n",
       "<style scoped>\n",
       "    .dataframe tbody tr th:only-of-type {\n",
       "        vertical-align: middle;\n",
       "    }\n",
       "\n",
       "    .dataframe tbody tr th {\n",
       "        vertical-align: top;\n",
       "    }\n",
       "\n",
       "    .dataframe thead th {\n",
       "        text-align: right;\n",
       "    }\n",
       "</style>\n",
       "<table border=\"1\" class=\"dataframe\">\n",
       "  <thead>\n",
       "    <tr style=\"text-align: right;\">\n",
       "      <th></th>\n",
       "      <th>airline</th>\n",
       "      <th>date_of_journey</th>\n",
       "      <th>source</th>\n",
       "      <th>destination</th>\n",
       "      <th>dep_time</th>\n",
       "      <th>arrival_time</th>\n",
       "      <th>duration_minute</th>\n",
       "      <th>total_stops</th>\n",
       "      <th>additional_info</th>\n",
       "      <th>price</th>\n",
       "    </tr>\n",
       "  </thead>\n",
       "  <tbody>\n",
       "    <tr>\n",
       "      <th>2913</th>\n",
       "      <td>Multiple Carriers</td>\n",
       "      <td>2019-06-24</td>\n",
       "      <td>Delhi</td>\n",
       "      <td>Cochin</td>\n",
       "      <td>09:15:00</td>\n",
       "      <td>19:00:00</td>\n",
       "      <td>585</td>\n",
       "      <td>1</td>\n",
       "      <td>no info</td>\n",
       "      <td>11622</td>\n",
       "    </tr>\n",
       "    <tr>\n",
       "      <th>5512</th>\n",
       "      <td>Jet Airways</td>\n",
       "      <td>2019-06-24</td>\n",
       "      <td>Banglore</td>\n",
       "      <td>Delhi</td>\n",
       "      <td>07:10:00</td>\n",
       "      <td>10:10:00</td>\n",
       "      <td>180</td>\n",
       "      <td>0</td>\n",
       "      <td>no info</td>\n",
       "      <td>8016</td>\n",
       "    </tr>\n",
       "    <tr>\n",
       "      <th>1648</th>\n",
       "      <td>Indigo</td>\n",
       "      <td>2019-06-12</td>\n",
       "      <td>Delhi</td>\n",
       "      <td>Cochin</td>\n",
       "      <td>09:15:00</td>\n",
       "      <td>01:30:00</td>\n",
       "      <td>975</td>\n",
       "      <td>1</td>\n",
       "      <td>no info</td>\n",
       "      <td>6628</td>\n",
       "    </tr>\n",
       "  </tbody>\n",
       "</table>\n",
       "</div>"
      ],
      "text/plain": [
       "                airline date_of_journey    source destination  dep_time  \\\n",
       "2913  Multiple Carriers      2019-06-24     Delhi      Cochin  09:15:00   \n",
       "5512        Jet Airways      2019-06-24  Banglore       Delhi  07:10:00   \n",
       "1648             Indigo      2019-06-12     Delhi      Cochin  09:15:00   \n",
       "\n",
       "     arrival_time  duration_minute  total_stops additional_info  price  \n",
       "2913     19:00:00              585            1         no info  11622  \n",
       "5512     10:10:00              180            0         no info   8016  \n",
       "1648     01:30:00              975            1         no info   6628  "
      ]
     },
     "execution_count": 55,
     "metadata": {},
     "output_type": "execute_result"
    }
   ],
   "source": [
    "get_dataset('train').sample(3)"
   ]
  },
  {
   "cell_type": "code",
   "execution_count": 56,
   "id": "2e26c8da-0e72-4a84-b8c1-bebdb9b16497",
   "metadata": {},
   "outputs": [
    {
     "data": {
      "text/html": [
       "<div>\n",
       "<style scoped>\n",
       "    .dataframe tbody tr th:only-of-type {\n",
       "        vertical-align: middle;\n",
       "    }\n",
       "\n",
       "    .dataframe tbody tr th {\n",
       "        vertical-align: top;\n",
       "    }\n",
       "\n",
       "    .dataframe thead th {\n",
       "        text-align: right;\n",
       "    }\n",
       "</style>\n",
       "<table border=\"1\" class=\"dataframe\">\n",
       "  <thead>\n",
       "    <tr style=\"text-align: right;\">\n",
       "      <th></th>\n",
       "      <th>airline</th>\n",
       "      <th>date_of_journey</th>\n",
       "      <th>source</th>\n",
       "      <th>destination</th>\n",
       "      <th>dep_time</th>\n",
       "      <th>arrival_time</th>\n",
       "      <th>duration_minute</th>\n",
       "      <th>total_stops</th>\n",
       "      <th>additional_info</th>\n",
       "      <th>price</th>\n",
       "    </tr>\n",
       "  </thead>\n",
       "  <tbody>\n",
       "    <tr>\n",
       "      <th>926</th>\n",
       "      <td>Indigo</td>\n",
       "      <td>2019-06-01</td>\n",
       "      <td>Banglore</td>\n",
       "      <td>Delhi</td>\n",
       "      <td>04:00:00</td>\n",
       "      <td>06:50:00</td>\n",
       "      <td>170</td>\n",
       "      <td>0</td>\n",
       "      <td>no info</td>\n",
       "      <td>3943</td>\n",
       "    </tr>\n",
       "    <tr>\n",
       "      <th>14</th>\n",
       "      <td>Jet Airways</td>\n",
       "      <td>2019-05-06</td>\n",
       "      <td>Banglore</td>\n",
       "      <td>Delhi</td>\n",
       "      <td>19:50:00</td>\n",
       "      <td>22:50:00</td>\n",
       "      <td>180</td>\n",
       "      <td>0</td>\n",
       "      <td>no info</td>\n",
       "      <td>7229</td>\n",
       "    </tr>\n",
       "    <tr>\n",
       "      <th>589</th>\n",
       "      <td>Jet Airways</td>\n",
       "      <td>2019-05-15</td>\n",
       "      <td>Kolkata</td>\n",
       "      <td>Banglore</td>\n",
       "      <td>21:10:00</td>\n",
       "      <td>04:40:00</td>\n",
       "      <td>450</td>\n",
       "      <td>1</td>\n",
       "      <td>no info</td>\n",
       "      <td>14388</td>\n",
       "    </tr>\n",
       "  </tbody>\n",
       "</table>\n",
       "</div>"
      ],
      "text/plain": [
       "         airline date_of_journey    source destination  dep_time arrival_time  \\\n",
       "926       Indigo      2019-06-01  Banglore       Delhi  04:00:00     06:50:00   \n",
       "14   Jet Airways      2019-05-06  Banglore       Delhi  19:50:00     22:50:00   \n",
       "589  Jet Airways      2019-05-15   Kolkata    Banglore  21:10:00     04:40:00   \n",
       "\n",
       "     duration_minute  total_stops additional_info  price  \n",
       "926              170            0         no info   3943  \n",
       "14               180            0         no info   7229  \n",
       "589              450            1         no info  14388  "
      ]
     },
     "execution_count": 56,
     "metadata": {},
     "output_type": "execute_result"
    }
   ],
   "source": [
    "get_dataset('validation').sample(3)"
   ]
  },
  {
   "cell_type": "code",
   "execution_count": 57,
   "id": "fb5f932a-862c-4b5d-aba2-d9b50e2e0ca3",
   "metadata": {},
   "outputs": [
    {
     "data": {
      "text/html": [
       "<div>\n",
       "<style scoped>\n",
       "    .dataframe tbody tr th:only-of-type {\n",
       "        vertical-align: middle;\n",
       "    }\n",
       "\n",
       "    .dataframe tbody tr th {\n",
       "        vertical-align: top;\n",
       "    }\n",
       "\n",
       "    .dataframe thead th {\n",
       "        text-align: right;\n",
       "    }\n",
       "</style>\n",
       "<table border=\"1\" class=\"dataframe\">\n",
       "  <thead>\n",
       "    <tr style=\"text-align: right;\">\n",
       "      <th></th>\n",
       "      <th>airline</th>\n",
       "      <th>date_of_journey</th>\n",
       "      <th>source</th>\n",
       "      <th>destination</th>\n",
       "      <th>dep_time</th>\n",
       "      <th>arrival_time</th>\n",
       "      <th>duration_minute</th>\n",
       "      <th>total_stops</th>\n",
       "      <th>additional_info</th>\n",
       "      <th>price</th>\n",
       "    </tr>\n",
       "  </thead>\n",
       "  <tbody>\n",
       "    <tr>\n",
       "      <th>556</th>\n",
       "      <td>Jet Airways</td>\n",
       "      <td>2019-05-21</td>\n",
       "      <td>Banglore</td>\n",
       "      <td>Delhi</td>\n",
       "      <td>19:50:00</td>\n",
       "      <td>22:50:00</td>\n",
       "      <td>180</td>\n",
       "      <td>0</td>\n",
       "      <td>no info</td>\n",
       "      <td>7229</td>\n",
       "    </tr>\n",
       "    <tr>\n",
       "      <th>263</th>\n",
       "      <td>Indigo</td>\n",
       "      <td>2019-06-24</td>\n",
       "      <td>Delhi</td>\n",
       "      <td>Cochin</td>\n",
       "      <td>11:55:00</td>\n",
       "      <td>22:30:00</td>\n",
       "      <td>635</td>\n",
       "      <td>1</td>\n",
       "      <td>no info</td>\n",
       "      <td>6442</td>\n",
       "    </tr>\n",
       "    <tr>\n",
       "      <th>1879</th>\n",
       "      <td>Indigo</td>\n",
       "      <td>2019-04-09</td>\n",
       "      <td>Kolkata</td>\n",
       "      <td>Banglore</td>\n",
       "      <td>21:25:00</td>\n",
       "      <td>00:05:00</td>\n",
       "      <td>160</td>\n",
       "      <td>0</td>\n",
       "      <td>no info</td>\n",
       "      <td>4174</td>\n",
       "    </tr>\n",
       "  </tbody>\n",
       "</table>\n",
       "</div>"
      ],
      "text/plain": [
       "          airline date_of_journey    source destination  dep_time  \\\n",
       "556   Jet Airways      2019-05-21  Banglore       Delhi  19:50:00   \n",
       "263        Indigo      2019-06-24     Delhi      Cochin  11:55:00   \n",
       "1879       Indigo      2019-04-09   Kolkata    Banglore  21:25:00   \n",
       "\n",
       "     arrival_time  duration_minute  total_stops additional_info  price  \n",
       "556      22:50:00              180            0         no info   7229  \n",
       "263      22:30:00              635            1         no info   6442  \n",
       "1879     00:05:00              160            0         no info   4174  "
      ]
     },
     "execution_count": 57,
     "metadata": {},
     "output_type": "execute_result"
    }
   ],
   "source": [
    "get_dataset('test').sample(3)"
   ]
  },
  {
   "cell_type": "code",
   "execution_count": 58,
   "id": "9729bf27-e0b7-4706-8082-8888e1357557",
   "metadata": {},
   "outputs": [],
   "source": [
    "# (\n",
    "#     df\n",
    "#     .drop(index=df[df.Duration.isin(['5m'])].index, columns=['Route'])\n",
    "#     .drop_duplicates()\n",
    "#     .rename(columns=str.lower)\n",
    "#     .assign(\n",
    "#         **{\n",
    "#             col: df[col].str.strip()\n",
    "#             for col in df.select_dtypes(include=\"O\").columns\n",
    "#         }\n",
    "#     )\n",
    "#     .assign(\n",
    "#         airline = lambda df_: (\n",
    "# \t\t\t\tdf_\n",
    "# \t\t\t\t.airline\n",
    "# \t\t\t\t.str.replace(\" Premium economy\", \"\")\n",
    "# \t\t\t\t.str.replace(\" Business\", \"\")\n",
    "# \t\t\t\t.str.title()\n",
    "# \t\t),\n",
    "#         date_of_journey = lambda df_: (\n",
    "#             pd.to_datetime(df_.date_of_journey, dayfirst=True)\n",
    "#         ),\n",
    "#         dep_time = lambda df_: (\n",
    "#                 pd.to_datetime(df_.dep_time).dt.time\n",
    "#         ),\n",
    "#         arrival_time = lambda df_: (\n",
    "#             pd.to_datetime(df_.arrival_time).dt.time\n",
    "#         ),\n",
    "#         duration = lambda df_: (\n",
    "#             df_.duration.pipe(lambda x: (\n",
    "#                 x\n",
    "#                 .str.split(\" \", expand=True)\n",
    "#         \t\t.set_axis([\"hour\", \"minute\"], axis=1)\n",
    "#         \t\t.assign(\n",
    "#                     hour=lambda df_: (\n",
    "#                         df_\n",
    "#         \t\t\t\t.hour\n",
    "#         \t\t\t\t.str.replace(\"h\", \"\")\n",
    "#         \t\t\t\t.astype(int)\n",
    "#         \t\t\t\t.mul(60)\n",
    "#             \t\t),\n",
    "#         \t\t\tminute=lambda df_: (\n",
    "#         \t\t\t\tdf_\n",
    "#         \t\t\t\t.minute\n",
    "#         \t\t\t\t.str.replace(\"m\", \"\")\n",
    "#         \t\t\t\t.fillna(\"0\")\n",
    "#         \t\t\t\t.astype(int)\n",
    "#         \t\t\t)\n",
    "#         \t\t).sum(axis=1)\n",
    "#             )\n",
    "#           )\n",
    "#         ),\n",
    "#         total_stops = lambda df_: (\n",
    "# \t\t\t\tdf_\n",
    "# \t\t\t\t.total_stops\n",
    "# \t\t\t\t.replace(\"non-stop\", \"0\")\n",
    "# \t\t\t\t.str.replace(\" stops?\", \"\", regex=True)\n",
    "# \t\t\t\t.pipe(lambda ser: pd.to_numeric(ser))\n",
    "# \t\t),\n",
    "#         additional_info = lambda df_ : (\n",
    "#             df_\n",
    "#             .additional_info\n",
    "#             .str\n",
    "#             .lower()\n",
    "#         )\n",
    "#     )\n",
    "# ).sample(10)"
   ]
  }
 ],
 "metadata": {
  "kernelspec": {
   "display_name": "Python 3 (ipykernel)",
   "language": "python",
   "name": "python3"
  },
  "language_info": {
   "codemirror_mode": {
    "name": "ipython",
    "version": 3
   },
   "file_extension": ".py",
   "mimetype": "text/x-python",
   "name": "python",
   "nbconvert_exporter": "python",
   "pygments_lexer": "ipython3",
   "version": "3.10.5"
  }
 },
 "nbformat": 4,
 "nbformat_minor": 5
}
