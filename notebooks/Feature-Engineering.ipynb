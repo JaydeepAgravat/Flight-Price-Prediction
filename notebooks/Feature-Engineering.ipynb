{
 "cells": [
  {
   "cell_type": "markdown",
   "id": "d116e3a7-b998-42fb-ba11-34de1660dc6f",
   "metadata": {},
   "source": [
    "# Feature Engineering"
   ]
  },
  {
   "cell_type": "code",
   "execution_count": 1,
   "id": "5c542f0b-adfc-4e07-88ef-539a259ac700",
   "metadata": {},
   "outputs": [],
   "source": [
    "import os\n",
    "import numpy as np\n",
    "import pandas as pd\n",
    "import sklearn\n",
    "from sklearn.pipeline import Pipeline, FeatureUnion\n",
    "from sklearn.compose import ColumnTransformer\n",
    "from sklearn.impute import SimpleImputer\n",
    "from sklearn.preprocessing import (\n",
    "    OneHotEncoder,\n",
    "    StandardScaler,\n",
    "    MinMaxScaler,\n",
    "    PowerTransformer,\n",
    "    FunctionTransformer\n",
    ")\n",
    "from feature_engine.encoding import (\n",
    "\tRareLabelEncoder,\n",
    "    MeanEncoder,\n",
    "    CountFrequencyEncoder\n",
    ")\n",
    "from feature_engine.datetime import DatetimeFeatures"
   ]
  },
  {
   "cell_type": "code",
   "execution_count": 2,
   "id": "6665c1e7-6786-4bb2-90bb-7292409ea257",
   "metadata": {},
   "outputs": [],
   "source": [
    "import warnings\n",
    "warnings.filterwarnings('ignore')\n",
    "pd.set_option('display.max_columns', None)\n",
    "sklearn.set_config(transform_output='pandas')"
   ]
  },
  {
   "cell_type": "code",
   "execution_count": 3,
   "id": "e5e7d19e-256e-4062-9abc-1594e34e396f",
   "metadata": {},
   "outputs": [],
   "source": [
    "PROJECT_DIR = 'R:\\Jaydeep/Flight-Price-Prediction'\n",
    "DATA_DIR = 'data'\n",
    "\n",
    "TRAIN_DATASET_NAME = 'train'\n",
    "VAL_DATASET_NAME = 'validation'\n",
    "TEST_DATASET_NAME  = 'test'\n",
    "\n",
    "TRAIN_PRE_DATASET_NAME = 'train_preprocessing'\n",
    "VAL_PRE_DATASET_NAME = 'val_preprocessing'\n",
    "TEST_PRE_DATASET_NAME = 'test_preprocessing'"
   ]
  },
  {
   "cell_type": "code",
   "execution_count": 4,
   "id": "061e6dea-5ba5-4919-899d-96ae880631bc",
   "metadata": {},
   "outputs": [],
   "source": [
    "def get_dataset(dataset_name):\n",
    "    file_name = f'{dataset_name}.csv'\n",
    "    file_path = os.path.join(PROJECT_DIR, DATA_DIR, file_name)\n",
    "    return pd.read_csv(file_path)"
   ]
  },
  {
   "cell_type": "code",
   "execution_count": 5,
   "id": "69e67ba5-9583-470e-8950-f72dd6806c84",
   "metadata": {},
   "outputs": [],
   "source": [
    "def export_dataset(X, name):\n",
    "\tfile_name = f\"{name}.csv\"\n",
    "\tfile_path = os.path.join(PROJECT_DIR, DATA_DIR, file_name)\n",
    "\tX.to_csv(file_path, index=False)"
   ]
  },
  {
   "cell_type": "code",
   "execution_count": 6,
   "id": "b8e2ebdb-1b73-4b4a-9b2f-c6922c218412",
   "metadata": {},
   "outputs": [],
   "source": [
    "train_df = get_dataset(TRAIN_DATASET_NAME)"
   ]
  },
  {
   "cell_type": "code",
   "execution_count": 7,
   "id": "83375012-4e7e-4d9b-b012-cb2c7d684534",
   "metadata": {},
   "outputs": [
    {
     "name": "stdout",
     "output_type": "stream",
     "text": [
      "<class 'pandas.core.frame.DataFrame'>\n",
      "RangeIndex: 6693 entries, 0 to 6692\n",
      "Data columns (total 10 columns):\n",
      " #   Column           Non-Null Count  Dtype \n",
      "---  ------           --------------  ----- \n",
      " 0   airline          6693 non-null   object\n",
      " 1   date_of_journey  6693 non-null   object\n",
      " 2   source           6693 non-null   object\n",
      " 3   destination      6693 non-null   object\n",
      " 4   dep_time         6693 non-null   object\n",
      " 5   arrival_time     6693 non-null   object\n",
      " 6   duration_minute  6693 non-null   int64 \n",
      " 7   total_stops      6693 non-null   int64 \n",
      " 8   additional_info  6693 non-null   object\n",
      " 9   price            6693 non-null   int64 \n",
      "dtypes: int64(3), object(7)\n",
      "memory usage: 523.0+ KB\n"
     ]
    }
   ],
   "source": [
    "train_df.info()"
   ]
  },
  {
   "cell_type": "code",
   "execution_count": 8,
   "id": "506d9105-b37a-45c1-b679-0663685288b9",
   "metadata": {},
   "outputs": [
    {
     "name": "stdout",
     "output_type": "stream",
     "text": [
      "<class 'pandas.core.frame.DataFrame'>\n",
      "RangeIndex: 6693 entries, 0 to 6692\n",
      "Data columns (total 10 columns):\n",
      " #   Column           Non-Null Count  Dtype \n",
      "---  ------           --------------  ----- \n",
      " 0   airline          6693 non-null   object\n",
      " 1   date_of_journey  6693 non-null   object\n",
      " 2   source           6693 non-null   object\n",
      " 3   destination      6693 non-null   object\n",
      " 4   dep_time         6693 non-null   object\n",
      " 5   arrival_time     6693 non-null   object\n",
      " 6   duration_minute  6693 non-null   int64 \n",
      " 7   total_stops      6693 non-null   int64 \n",
      " 8   additional_info  6693 non-null   object\n",
      " 9   price            6693 non-null   int64 \n",
      "dtypes: int64(3), object(7)\n",
      "memory usage: 523.0+ KB\n"
     ]
    }
   ],
   "source": [
    "train_df.info()"
   ]
  },
  {
   "cell_type": "code",
   "execution_count": 9,
   "id": "6beff726-aaf9-46f9-8ba0-6d1180951f14",
   "metadata": {},
   "outputs": [],
   "source": [
    "X_train = train_df.drop(columns=['price','additional_info'])\n",
    "y_train = train_df.price.copy()"
   ]
  },
  {
   "cell_type": "code",
   "execution_count": 10,
   "id": "0a74d669-56fe-4a46-a16d-c4d9324390a7",
   "metadata": {},
   "outputs": [
    {
     "data": {
      "text/plain": [
       "['airline',\n",
       " 'date_of_journey',\n",
       " 'source',\n",
       " 'destination',\n",
       " 'dep_time',\n",
       " 'arrival_time',\n",
       " 'duration_minute',\n",
       " 'total_stops']"
      ]
     },
     "execution_count": 10,
     "metadata": {},
     "output_type": "execute_result"
    }
   ],
   "source": [
    "X_train.columns.to_list()"
   ]
  },
  {
   "cell_type": "markdown",
   "id": "a84b90af-5643-499d-a458-309856817a9d",
   "metadata": {},
   "source": [
    "## Airline"
   ]
  },
  {
   "cell_type": "code",
   "execution_count": 11,
   "id": "d8b396aa-fb3b-4e7a-a011-2faa54069fc0",
   "metadata": {},
   "outputs": [],
   "source": [
    "airline_transformer = Pipeline(steps=[\n",
    "    ('grouper', RareLabelEncoder(tol=0.1, replace_with='other', n_categories=2)),\n",
    "    ('encoder', OneHotEncoder(sparse_output=False, handle_unknown='ignore'))\n",
    "])"
   ]
  },
  {
   "cell_type": "markdown",
   "id": "682037e0-d8a0-4191-93a9-062dfe176347",
   "metadata": {},
   "source": [
    "## Date of Journey"
   ]
  },
  {
   "cell_type": "code",
   "execution_count": 12,
   "id": "363557fc-0d9d-48c3-970e-2292aae5ea1a",
   "metadata": {},
   "outputs": [],
   "source": [
    "date_features = ['month', 'day_of_week', 'day_of_year']"
   ]
  },
  {
   "cell_type": "code",
   "execution_count": 13,
   "id": "d339c396-f299-4621-9a0e-4eaf58a91094",
   "metadata": {},
   "outputs": [],
   "source": [
    "date_tranformer = Pipeline(steps=[\n",
    "    ('date_to_features', DatetimeFeatures(features_to_extract=date_features, yearfirst=True, format='mixed')),\n",
    "    ('min_max_scaler', MinMaxScaler())\n",
    "])"
   ]
  },
  {
   "cell_type": "markdown",
   "id": "956d6642-f52d-4a43-9c65-d76fe83d664c",
   "metadata": {},
   "source": [
    "## Source & Destination"
   ]
  },
  {
   "cell_type": "code",
   "execution_count": 14,
   "id": "51d4c0da-0754-41b0-b1ea-19bd23544fa4",
   "metadata": {},
   "outputs": [
    {
     "data": {
      "text/plain": [
       "{'Banglore',\n",
       " 'Chennai',\n",
       " 'Cochin',\n",
       " 'Delhi',\n",
       " 'Hyderabad',\n",
       " 'Kolkata',\n",
       " 'Mumbai',\n",
       " 'New Delhi'}"
      ]
     },
     "execution_count": 14,
     "metadata": {},
     "output_type": "execute_result"
    }
   ],
   "source": [
    "set(np.union1d(\n",
    "    X_train.source.unique(),\n",
    "    X_train.destination.unique()\n",
    "))\n"
   ]
  },
  {
   "cell_type": "code",
   "execution_count": 15,
   "id": "7e7d05d6-3fd2-4b41-9080-2a6bba4fd964",
   "metadata": {},
   "outputs": [],
   "source": [
    "location_df = X_train.loc[:, ['source', 'destination']]"
   ]
  },
  {
   "cell_type": "code",
   "execution_count": 16,
   "id": "8ad3138b-ecf1-413a-b89c-f8cdd9c05ae8",
   "metadata": {},
   "outputs": [],
   "source": [
    "location_transformer = Pipeline(steps=[\n",
    "    ('grouper', RareLabelEncoder(tol=0.1, replace_with='other', n_categories=2)),\n",
    "    ('mean_encoder', MeanEncoder()),\n",
    "    ('power_transformer', PowerTransformer())\n",
    "])"
   ]
  },
  {
   "cell_type": "code",
   "execution_count": 17,
   "id": "83c12212-156f-4f05-9c02-7be0ea3e4b7f",
   "metadata": {},
   "outputs": [],
   "source": [
    "def is_north(X):\n",
    "\tcolumns = X.columns.to_list()\n",
    "\tnorth_cities = {\"Delhi\", \"Kolkata\", \"Mumbai\", \"New Delhi\"}\n",
    "\treturn (\n",
    "\t\tX\n",
    "\t\t.assign(**{\n",
    "\t\t\tf\"{col}_is_north\": X.loc[:, col].isin(north_cities).astype(int)\n",
    "\t\t\tfor col in columns\n",
    "\t\t})\n",
    "\t\t.drop(columns=columns)\n",
    "\t)"
   ]
  },
  {
   "cell_type": "code",
   "execution_count": 18,
   "id": "abb884ba-b606-4ade-969c-9d4475f1409a",
   "metadata": {},
   "outputs": [],
   "source": [
    "location_union_transformer = FeatureUnion(transformer_list=[\n",
    "\t(\"location_transformer\", location_transformer),\n",
    "\t(\"is_north_transformer\", FunctionTransformer(func=is_north))\n",
    "])"
   ]
  },
  {
   "cell_type": "markdown",
   "id": "719affb0-df9f-4be5-ab42-31cc6b7b1387",
   "metadata": {},
   "source": [
    "## Departure Time & Arrival Time"
   ]
  },
  {
   "cell_type": "code",
   "execution_count": 19,
   "id": "f00d83d7-effc-4ecf-b093-b80065545fe1",
   "metadata": {},
   "outputs": [],
   "source": [
    "time_df = X_train.loc[:, ['dep_time', 'arrival_time']]"
   ]
  },
  {
   "cell_type": "code",
   "execution_count": 20,
   "id": "182ecc78-e80e-43fd-8350-44fbd162afce",
   "metadata": {},
   "outputs": [
    {
     "data": {
      "text/html": [
       "<div>\n",
       "<style scoped>\n",
       "    .dataframe tbody tr th:only-of-type {\n",
       "        vertical-align: middle;\n",
       "    }\n",
       "\n",
       "    .dataframe tbody tr th {\n",
       "        vertical-align: top;\n",
       "    }\n",
       "\n",
       "    .dataframe thead th {\n",
       "        text-align: right;\n",
       "    }\n",
       "</style>\n",
       "<table border=\"1\" class=\"dataframe\">\n",
       "  <thead>\n",
       "    <tr style=\"text-align: right;\">\n",
       "      <th></th>\n",
       "      <th>dep_time</th>\n",
       "      <th>arrival_time</th>\n",
       "    </tr>\n",
       "  </thead>\n",
       "  <tbody>\n",
       "    <tr>\n",
       "      <th>4193</th>\n",
       "      <td>10:20:00</td>\n",
       "      <td>17:35:00</td>\n",
       "    </tr>\n",
       "    <tr>\n",
       "      <th>2695</th>\n",
       "      <td>21:05:00</td>\n",
       "      <td>22:25:00</td>\n",
       "    </tr>\n",
       "    <tr>\n",
       "      <th>158</th>\n",
       "      <td>08:20:00</td>\n",
       "      <td>10:35:00</td>\n",
       "    </tr>\n",
       "    <tr>\n",
       "      <th>882</th>\n",
       "      <td>11:10:00</td>\n",
       "      <td>14:05:00</td>\n",
       "    </tr>\n",
       "    <tr>\n",
       "      <th>5706</th>\n",
       "      <td>13:00:00</td>\n",
       "      <td>21:00:00</td>\n",
       "    </tr>\n",
       "  </tbody>\n",
       "</table>\n",
       "</div>"
      ],
      "text/plain": [
       "      dep_time arrival_time\n",
       "4193  10:20:00     17:35:00\n",
       "2695  21:05:00     22:25:00\n",
       "158   08:20:00     10:35:00\n",
       "882   11:10:00     14:05:00\n",
       "5706  13:00:00     21:00:00"
      ]
     },
     "execution_count": 20,
     "metadata": {},
     "output_type": "execute_result"
    }
   ],
   "source": [
    "time_df.sample(5)"
   ]
  },
  {
   "cell_type": "code",
   "execution_count": 21,
   "id": "ac522216-bdc0-4ced-bc3e-780d50e0dbef",
   "metadata": {},
   "outputs": [
    {
     "name": "stdout",
     "output_type": "stream",
     "text": [
      "<class 'pandas.core.frame.DataFrame'>\n",
      "RangeIndex: 6693 entries, 0 to 6692\n",
      "Data columns (total 2 columns):\n",
      " #   Column        Non-Null Count  Dtype \n",
      "---  ------        --------------  ----- \n",
      " 0   dep_time      6693 non-null   object\n",
      " 1   arrival_time  6693 non-null   object\n",
      "dtypes: object(2)\n",
      "memory usage: 104.7+ KB\n"
     ]
    }
   ],
   "source": [
    "time_df.info()"
   ]
  },
  {
   "cell_type": "code",
   "execution_count": 22,
   "id": "df99a729-9d5f-4127-b8dc-5b15a5aafdbc",
   "metadata": {},
   "outputs": [],
   "source": [
    "time_transformer = Pipeline(\n",
    "    steps = [\n",
    "        ('dt', DatetimeFeatures(features_to_extract=['hour', 'minute'])),\n",
    "        # ('scaler', MinMaxScaler())\n",
    "    ]\n",
    ")"
   ]
  },
  {
   "cell_type": "code",
   "execution_count": 23,
   "id": "56c8a99c-ea5e-4d51-baa9-d8a802c0ce53",
   "metadata": {},
   "outputs": [],
   "source": [
    "def part_of_day(X, start=0 , mid=8, end=16):\n",
    "    columns = X.columns.to_list()\n",
    "    X_temp = X.assign(\n",
    "        **{\n",
    "            col: pd.to_datetime(X.loc[:, col]).dt.hour\n",
    "            for col in columns\n",
    "        }\n",
    "    )\n",
    "    return (\n",
    "        X_temp\n",
    "        .assign(\n",
    "            **{\n",
    "                f'{col}_part_of_day': np.select(\n",
    "                    [\n",
    "                        X_temp.loc[:, col].between(start, mid, inclusive='left'),\n",
    "                        X_temp.loc[:, col].between(mid, end, inclusive='left')\n",
    "                    ], choicelist = ['start', 'mid'] ,default = 'end'\n",
    "                )\n",
    "                for col in columns\n",
    "            }\n",
    "        ).drop(columns=columns)\n",
    "    )"
   ]
  },
  {
   "cell_type": "code",
   "execution_count": 24,
   "id": "dc8af975-93f5-46a4-ba45-96d4db269114",
   "metadata": {},
   "outputs": [],
   "source": [
    "part_of_day_transformer = Pipeline(\n",
    "    steps = [\n",
    "        ('part_of_day_func', FunctionTransformer(func=part_of_day)),\n",
    "        ('count_fre_encoder', CountFrequencyEncoder()),\n",
    "        ('min_max_scaler', MinMaxScaler())\n",
    "    ]\n",
    ")"
   ]
  },
  {
   "cell_type": "code",
   "execution_count": 25,
   "id": "7400911a-ac2d-40dd-af01-f6a51f6fc78f",
   "metadata": {},
   "outputs": [],
   "source": [
    "time_union_transformer = FeatureUnion(\n",
    "    transformer_list=[\n",
    "        ('time_transformer', time_transformer),\n",
    "        ('part_of_day_transformer', part_of_day_transformer)\n",
    "    ]\n",
    ")"
   ]
  },
  {
   "cell_type": "code",
   "execution_count": 26,
   "id": "f206e57d-24dc-45a2-b5bd-06863c56f395",
   "metadata": {},
   "outputs": [
    {
     "data": {
      "text/plain": [
       "Index(['airline', 'date_of_journey', 'source', 'destination', 'dep_time',\n",
       "       'arrival_time', 'duration_minute', 'total_stops'],\n",
       "      dtype='object')"
      ]
     },
     "execution_count": 26,
     "metadata": {},
     "output_type": "execute_result"
    }
   ],
   "source": [
    "X_train.columns"
   ]
  },
  {
   "cell_type": "code",
   "execution_count": 27,
   "id": "cf265658-1b6a-40a0-8454-8665ac75d875",
   "metadata": {},
   "outputs": [
    {
     "data": {
      "text/html": [
       "<div>\n",
       "<style scoped>\n",
       "    .dataframe tbody tr th:only-of-type {\n",
       "        vertical-align: middle;\n",
       "    }\n",
       "\n",
       "    .dataframe tbody tr th {\n",
       "        vertical-align: top;\n",
       "    }\n",
       "\n",
       "    .dataframe thead th {\n",
       "        text-align: right;\n",
       "    }\n",
       "</style>\n",
       "<table border=\"1\" class=\"dataframe\">\n",
       "  <thead>\n",
       "    <tr style=\"text-align: right;\">\n",
       "      <th></th>\n",
       "      <th>arrival_time_hour</th>\n",
       "      <th>arrival_time_minute</th>\n",
       "      <th>arrival_time_part_of_day</th>\n",
       "    </tr>\n",
       "  </thead>\n",
       "  <tbody>\n",
       "    <tr>\n",
       "      <th>2850</th>\n",
       "      <td>21</td>\n",
       "      <td>0</td>\n",
       "      <td>1.000000</td>\n",
       "    </tr>\n",
       "    <tr>\n",
       "      <th>3889</th>\n",
       "      <td>23</td>\n",
       "      <td>15</td>\n",
       "      <td>1.000000</td>\n",
       "    </tr>\n",
       "    <tr>\n",
       "      <th>2196</th>\n",
       "      <td>7</td>\n",
       "      <td>40</td>\n",
       "      <td>0.000000</td>\n",
       "    </tr>\n",
       "    <tr>\n",
       "      <th>1172</th>\n",
       "      <td>10</td>\n",
       "      <td>5</td>\n",
       "      <td>0.397086</td>\n",
       "    </tr>\n",
       "    <tr>\n",
       "      <th>4250</th>\n",
       "      <td>13</td>\n",
       "      <td>10</td>\n",
       "      <td>0.397086</td>\n",
       "    </tr>\n",
       "  </tbody>\n",
       "</table>\n",
       "</div>"
      ],
      "text/plain": [
       "      arrival_time_hour  arrival_time_minute  arrival_time_part_of_day\n",
       "2850                 21                    0                  1.000000\n",
       "3889                 23                   15                  1.000000\n",
       "2196                  7                   40                  0.000000\n",
       "1172                 10                    5                  0.397086\n",
       "4250                 13                   10                  0.397086"
      ]
     },
     "execution_count": 27,
     "metadata": {},
     "output_type": "execute_result"
    }
   ],
   "source": [
    "time_union_transformer.fit_transform(X_train.loc[:,['arrival_time']]).sample(5)"
   ]
  },
  {
   "cell_type": "markdown",
   "id": "8137fca5-7520-4356-93bd-a2913b8eda78",
   "metadata": {},
   "source": [
    "## Duration"
   ]
  },
  {
   "cell_type": "code",
   "execution_count": 28,
   "id": "3aa39d64-2c99-43cb-8f32-d3ace55d84be",
   "metadata": {},
   "outputs": [],
   "source": [
    "duration_log_transformer = FunctionTransformer(func=np.log)"
   ]
  },
  {
   "cell_type": "markdown",
   "id": "77087bf2-733c-4821-b31a-f122326a2ef0",
   "metadata": {},
   "source": [
    "## Total Stop"
   ]
  },
  {
   "cell_type": "code",
   "execution_count": 29,
   "id": "08f89e3c-bcc0-4bc8-b223-696dfb5a45d2",
   "metadata": {},
   "outputs": [],
   "source": [
    "def is_direct_flight(X):\n",
    "    return X.assign(\n",
    "        is_direct_flight = X.total_stops.eq(0).astype(int)\n",
    "    )"
   ]
  },
  {
   "cell_type": "code",
   "execution_count": 30,
   "id": "f9d0ba9d-f5b2-4396-8b43-b7526fe4a4bd",
   "metadata": {},
   "outputs": [],
   "source": [
    "total_stops_transformer = FunctionTransformer(func=is_direct_flight)"
   ]
  },
  {
   "cell_type": "markdown",
   "id": "a4ceffb9-7635-40de-a9ff-e6c68741b324",
   "metadata": {},
   "source": [
    "## Column Transformer"
   ]
  },
  {
   "cell_type": "code",
   "execution_count": 31,
   "id": "dfb7b83b-1daa-462e-9500-fcf163139d6d",
   "metadata": {},
   "outputs": [],
   "source": [
    "column_transformer = ColumnTransformer(transformers=[\n",
    "    ('airline_transformer', airline_transformer, ['airline']),\n",
    "    ('date_transformer', date_tranformer, ['date_of_journey']),\n",
    "    ('location_union_transformer', location_union_transformer, ['source', 'destination']),\n",
    "    ('time_union_transformer', time_union_transformer, ['dep_time', 'arrival_time']),\n",
    "    ('duration_log_transformer', duration_log_transformer, ['duration_minute']),\n",
    "    ('total_stops_trasformer', total_stops_transformer, ['total_stops'])\n",
    "])"
   ]
  },
  {
   "cell_type": "code",
   "execution_count": 32,
   "id": "74516105-0fc3-4b59-82ab-1061acc20e7a",
   "metadata": {},
   "outputs": [],
   "source": [
    "final_input_df = column_transformer.fit_transform(X_train, y_train)"
   ]
  },
  {
   "cell_type": "code",
   "execution_count": 33,
   "id": "699e9a10-83c7-4b7c-b448-899e596491db",
   "metadata": {},
   "outputs": [],
   "source": [
    "final_input_columns = final_input_df.columns.to_list()"
   ]
  },
  {
   "cell_type": "code",
   "execution_count": 34,
   "id": "6d67f6e8-6fb3-4f0a-81ba-d0c2b998293b",
   "metadata": {},
   "outputs": [
    {
     "data": {
      "text/plain": [
       "21"
      ]
     },
     "execution_count": 34,
     "metadata": {},
     "output_type": "execute_result"
    }
   ],
   "source": [
    "len(final_input_columns)"
   ]
  },
  {
   "cell_type": "code",
   "execution_count": 35,
   "id": "96542ca7-a84d-4903-a750-88deb6b1c849",
   "metadata": {},
   "outputs": [
    {
     "name": "stdout",
     "output_type": "stream",
     "text": [
      "['airline_transformer__airline_Air India', 'airline_transformer__airline_Indigo', 'airline_transformer__airline_Jet Airways', 'airline_transformer__airline_Multiple Carriers', 'airline_transformer__airline_other', 'date_transformer__date_of_journey_month', 'date_transformer__date_of_journey_day_of_week', 'date_transformer__date_of_journey_day_of_year', 'location_union_transformer__source', 'location_union_transformer__destination', 'location_union_transformer__source_is_north', 'location_union_transformer__destination_is_north', 'time_union_transformer__dep_time_hour', 'time_union_transformer__dep_time_minute', 'time_union_transformer__arrival_time_hour', 'time_union_transformer__arrival_time_minute', 'time_union_transformer__dep_time_part_of_day', 'time_union_transformer__arrival_time_part_of_day', 'duration_log_transformer__duration_minute', 'total_stops_trasformer__total_stops', 'total_stops_trasformer__is_direct_flight']\n"
     ]
    }
   ],
   "source": [
    "print(final_input_columns)"
   ]
  },
  {
   "cell_type": "markdown",
   "id": "d0a883cd-87a0-4ca0-a639-2f9703489962",
   "metadata": {},
   "source": [
    "## Save the preprocessed CSV file"
   ]
  },
  {
   "cell_type": "code",
   "execution_count": 36,
   "id": "5800c186-c588-4204-b037-30fd5637bd90",
   "metadata": {},
   "outputs": [],
   "source": [
    "export_dataset(column_transformer.fit_transform(get_dataset(TRAIN_DATASET_NAME), y_train), TRAIN_PRE_DATASET_NAME)\n",
    "export_dataset(column_transformer.transform(get_dataset(VAL_DATASET_NAME)), VAL_PRE_DATASET_NAME)\n",
    "export_dataset(column_transformer.transform(get_dataset(TEST_DATASET_NAME)), TEST_PRE_DATASET_NAME)"
   ]
  }
 ],
 "metadata": {
  "kernelspec": {
   "display_name": "Python 3 (ipykernel)",
   "language": "python",
   "name": "python3"
  },
  "language_info": {
   "codemirror_mode": {
    "name": "ipython",
    "version": 3
   },
   "file_extension": ".py",
   "mimetype": "text/x-python",
   "name": "python",
   "nbconvert_exporter": "python",
   "pygments_lexer": "ipython3",
   "version": "3.10.5"
  }
 },
 "nbformat": 4,
 "nbformat_minor": 5
}
